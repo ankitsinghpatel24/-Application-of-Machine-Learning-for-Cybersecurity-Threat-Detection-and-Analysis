{
 "cells": [
  {
   "cell_type": "markdown",
   "id": "eaa59c14",
   "metadata": {},
   "source": [
    "# IoT-Botnet Cybersecurity Data"
   ]
  },
  {
   "cell_type": "markdown",
   "id": "deb571db",
   "metadata": {},
   "source": [
    "# LDA"
   ]
  },
  {
   "cell_type": "code",
   "execution_count": 1,
   "id": "1f9fba00",
   "metadata": {},
   "outputs": [],
   "source": [
    "import numpy as np\n",
    "import pandas as pd\n",
    "import matplotlib.pyplot as plt\n",
    "import seaborn as sns\n",
    "import warnings\n",
    "warnings.filterwarnings(\"ignore\")"
   ]
  },
  {
   "cell_type": "code",
   "execution_count": 2,
   "id": "64182c1a",
   "metadata": {},
   "outputs": [],
   "source": [
    "df = pd.read_csv('D:\\\\IIT Kharagpur Notes\\\\Semester IV\\\\Datasets\\\\BoT-IoT\\\\CSV\\\\Traning and Testing Tets (5% of the entier dataset)\\\\10-best features\\\\10-best Training-Testing split\\\\UNSW_2018_IoT_Botnet_Final_10_best_Training.csv')"
   ]
  },
  {
   "cell_type": "code",
   "execution_count": 3,
   "id": "d3897794",
   "metadata": {},
   "outputs": [
    {
     "data": {
      "text/html": [
       "<div>\n",
       "<style scoped>\n",
       "    .dataframe tbody tr th:only-of-type {\n",
       "        vertical-align: middle;\n",
       "    }\n",
       "\n",
       "    .dataframe tbody tr th {\n",
       "        vertical-align: top;\n",
       "    }\n",
       "\n",
       "    .dataframe thead th {\n",
       "        text-align: right;\n",
       "    }\n",
       "</style>\n",
       "<table border=\"1\" class=\"dataframe\">\n",
       "  <thead>\n",
       "    <tr style=\"text-align: right;\">\n",
       "      <th></th>\n",
       "      <th>pkSeqID</th>\n",
       "      <th>proto</th>\n",
       "      <th>saddr</th>\n",
       "      <th>sport</th>\n",
       "      <th>daddr</th>\n",
       "      <th>dport</th>\n",
       "      <th>seq</th>\n",
       "      <th>stddev</th>\n",
       "      <th>N_IN_Conn_P_SrcIP</th>\n",
       "      <th>min</th>\n",
       "      <th>state_number</th>\n",
       "      <th>mean</th>\n",
       "      <th>N_IN_Conn_P_DstIP</th>\n",
       "      <th>drate</th>\n",
       "      <th>srate</th>\n",
       "      <th>max</th>\n",
       "      <th>attack</th>\n",
       "      <th>category</th>\n",
       "      <th>subcategory</th>\n",
       "    </tr>\n",
       "  </thead>\n",
       "  <tbody>\n",
       "    <tr>\n",
       "      <th>0</th>\n",
       "      <td>3142762</td>\n",
       "      <td>udp</td>\n",
       "      <td>192.168.100.150</td>\n",
       "      <td>6551</td>\n",
       "      <td>192.168.100.3</td>\n",
       "      <td>80</td>\n",
       "      <td>251984</td>\n",
       "      <td>1.900363</td>\n",
       "      <td>100</td>\n",
       "      <td>0.000000</td>\n",
       "      <td>4</td>\n",
       "      <td>2.687519</td>\n",
       "      <td>100</td>\n",
       "      <td>0.0</td>\n",
       "      <td>0.494549</td>\n",
       "      <td>4.031619</td>\n",
       "      <td>1</td>\n",
       "      <td>DDoS</td>\n",
       "      <td>UDP</td>\n",
       "    </tr>\n",
       "    <tr>\n",
       "      <th>1</th>\n",
       "      <td>2432264</td>\n",
       "      <td>tcp</td>\n",
       "      <td>192.168.100.150</td>\n",
       "      <td>5532</td>\n",
       "      <td>192.168.100.3</td>\n",
       "      <td>80</td>\n",
       "      <td>256724</td>\n",
       "      <td>0.078003</td>\n",
       "      <td>38</td>\n",
       "      <td>3.856930</td>\n",
       "      <td>3</td>\n",
       "      <td>3.934927</td>\n",
       "      <td>100</td>\n",
       "      <td>0.0</td>\n",
       "      <td>0.256493</td>\n",
       "      <td>4.012924</td>\n",
       "      <td>1</td>\n",
       "      <td>DDoS</td>\n",
       "      <td>TCP</td>\n",
       "    </tr>\n",
       "    <tr>\n",
       "      <th>2</th>\n",
       "      <td>1976315</td>\n",
       "      <td>tcp</td>\n",
       "      <td>192.168.100.147</td>\n",
       "      <td>27165</td>\n",
       "      <td>192.168.100.3</td>\n",
       "      <td>80</td>\n",
       "      <td>62921</td>\n",
       "      <td>0.268666</td>\n",
       "      <td>100</td>\n",
       "      <td>2.974100</td>\n",
       "      <td>3</td>\n",
       "      <td>3.341429</td>\n",
       "      <td>100</td>\n",
       "      <td>0.0</td>\n",
       "      <td>0.294880</td>\n",
       "      <td>3.609205</td>\n",
       "      <td>1</td>\n",
       "      <td>DDoS</td>\n",
       "      <td>TCP</td>\n",
       "    </tr>\n",
       "    <tr>\n",
       "      <th>3</th>\n",
       "      <td>1240757</td>\n",
       "      <td>udp</td>\n",
       "      <td>192.168.100.150</td>\n",
       "      <td>48719</td>\n",
       "      <td>192.168.100.3</td>\n",
       "      <td>80</td>\n",
       "      <td>99168</td>\n",
       "      <td>1.823185</td>\n",
       "      <td>63</td>\n",
       "      <td>0.000000</td>\n",
       "      <td>4</td>\n",
       "      <td>3.222832</td>\n",
       "      <td>63</td>\n",
       "      <td>0.0</td>\n",
       "      <td>0.461435</td>\n",
       "      <td>4.942302</td>\n",
       "      <td>1</td>\n",
       "      <td>DoS</td>\n",
       "      <td>UDP</td>\n",
       "    </tr>\n",
       "    <tr>\n",
       "      <th>4</th>\n",
       "      <td>3257991</td>\n",
       "      <td>udp</td>\n",
       "      <td>192.168.100.147</td>\n",
       "      <td>22461</td>\n",
       "      <td>192.168.100.3</td>\n",
       "      <td>80</td>\n",
       "      <td>105063</td>\n",
       "      <td>0.822418</td>\n",
       "      <td>100</td>\n",
       "      <td>2.979995</td>\n",
       "      <td>4</td>\n",
       "      <td>3.983222</td>\n",
       "      <td>100</td>\n",
       "      <td>0.0</td>\n",
       "      <td>1.002999</td>\n",
       "      <td>4.994452</td>\n",
       "      <td>1</td>\n",
       "      <td>DDoS</td>\n",
       "      <td>UDP</td>\n",
       "    </tr>\n",
       "  </tbody>\n",
       "</table>\n",
       "</div>"
      ],
      "text/plain": [
       "   pkSeqID proto            saddr  sport          daddr dport     seq  \\\n",
       "0  3142762   udp  192.168.100.150   6551  192.168.100.3    80  251984   \n",
       "1  2432264   tcp  192.168.100.150   5532  192.168.100.3    80  256724   \n",
       "2  1976315   tcp  192.168.100.147  27165  192.168.100.3    80   62921   \n",
       "3  1240757   udp  192.168.100.150  48719  192.168.100.3    80   99168   \n",
       "4  3257991   udp  192.168.100.147  22461  192.168.100.3    80  105063   \n",
       "\n",
       "     stddev  N_IN_Conn_P_SrcIP       min  state_number      mean  \\\n",
       "0  1.900363                100  0.000000             4  2.687519   \n",
       "1  0.078003                 38  3.856930             3  3.934927   \n",
       "2  0.268666                100  2.974100             3  3.341429   \n",
       "3  1.823185                 63  0.000000             4  3.222832   \n",
       "4  0.822418                100  2.979995             4  3.983222   \n",
       "\n",
       "   N_IN_Conn_P_DstIP  drate     srate       max  attack category subcategory  \n",
       "0                100    0.0  0.494549  4.031619       1     DDoS         UDP  \n",
       "1                100    0.0  0.256493  4.012924       1     DDoS         TCP  \n",
       "2                100    0.0  0.294880  3.609205       1     DDoS         TCP  \n",
       "3                 63    0.0  0.461435  4.942302       1      DoS         UDP  \n",
       "4                100    0.0  1.002999  4.994452       1     DDoS         UDP  "
      ]
     },
     "execution_count": 3,
     "metadata": {},
     "output_type": "execute_result"
    }
   ],
   "source": [
    "df.head()"
   ]
  },
  {
   "cell_type": "code",
   "execution_count": 4,
   "id": "874164ee",
   "metadata": {},
   "outputs": [
    {
     "data": {
      "text/html": [
       "<div>\n",
       "<style scoped>\n",
       "    .dataframe tbody tr th:only-of-type {\n",
       "        vertical-align: middle;\n",
       "    }\n",
       "\n",
       "    .dataframe tbody tr th {\n",
       "        vertical-align: top;\n",
       "    }\n",
       "\n",
       "    .dataframe thead th {\n",
       "        text-align: right;\n",
       "    }\n",
       "</style>\n",
       "<table border=\"1\" class=\"dataframe\">\n",
       "  <thead>\n",
       "    <tr style=\"text-align: right;\">\n",
       "      <th></th>\n",
       "      <th>pkSeqID</th>\n",
       "      <th>proto</th>\n",
       "      <th>saddr</th>\n",
       "      <th>sport</th>\n",
       "      <th>daddr</th>\n",
       "      <th>dport</th>\n",
       "      <th>seq</th>\n",
       "      <th>stddev</th>\n",
       "      <th>N_IN_Conn_P_SrcIP</th>\n",
       "      <th>min</th>\n",
       "      <th>state_number</th>\n",
       "      <th>mean</th>\n",
       "      <th>N_IN_Conn_P_DstIP</th>\n",
       "      <th>drate</th>\n",
       "      <th>srate</th>\n",
       "      <th>max</th>\n",
       "      <th>attack</th>\n",
       "      <th>category</th>\n",
       "      <th>subcategory</th>\n",
       "    </tr>\n",
       "  </thead>\n",
       "  <tbody>\n",
       "    <tr>\n",
       "      <th>2934812</th>\n",
       "      <td>1132803</td>\n",
       "      <td>udp</td>\n",
       "      <td>192.168.100.149</td>\n",
       "      <td>56044</td>\n",
       "      <td>192.168.100.5</td>\n",
       "      <td>80</td>\n",
       "      <td>253370</td>\n",
       "      <td>0.016992</td>\n",
       "      <td>100</td>\n",
       "      <td>4.082509</td>\n",
       "      <td>4</td>\n",
       "      <td>4.102515</td>\n",
       "      <td>100</td>\n",
       "      <td>0.000000</td>\n",
       "      <td>0.243473</td>\n",
       "      <td>4.124047</td>\n",
       "      <td>1</td>\n",
       "      <td>DoS</td>\n",
       "      <td>UDP</td>\n",
       "    </tr>\n",
       "    <tr>\n",
       "      <th>2934813</th>\n",
       "      <td>3384621</td>\n",
       "      <td>udp</td>\n",
       "      <td>192.168.100.150</td>\n",
       "      <td>21546</td>\n",
       "      <td>192.168.100.3</td>\n",
       "      <td>80</td>\n",
       "      <td>231693</td>\n",
       "      <td>1.922317</td>\n",
       "      <td>100</td>\n",
       "      <td>0.000000</td>\n",
       "      <td>4</td>\n",
       "      <td>2.718527</td>\n",
       "      <td>100</td>\n",
       "      <td>0.000000</td>\n",
       "      <td>0.490800</td>\n",
       "      <td>4.090534</td>\n",
       "      <td>1</td>\n",
       "      <td>DDoS</td>\n",
       "      <td>UDP</td>\n",
       "    </tr>\n",
       "    <tr>\n",
       "      <th>2934814</th>\n",
       "      <td>775893</td>\n",
       "      <td>udp</td>\n",
       "      <td>192.168.100.149</td>\n",
       "      <td>30897</td>\n",
       "      <td>192.168.100.5</td>\n",
       "      <td>80</td>\n",
       "      <td>158616</td>\n",
       "      <td>2.112228</td>\n",
       "      <td>100</td>\n",
       "      <td>0.000000</td>\n",
       "      <td>4</td>\n",
       "      <td>2.110766</td>\n",
       "      <td>100</td>\n",
       "      <td>0.000000</td>\n",
       "      <td>0.207444</td>\n",
       "      <td>4.332615</td>\n",
       "      <td>1</td>\n",
       "      <td>DoS</td>\n",
       "      <td>UDP</td>\n",
       "    </tr>\n",
       "    <tr>\n",
       "      <th>2934815</th>\n",
       "      <td>443484</td>\n",
       "      <td>tcp</td>\n",
       "      <td>192.168.100.147</td>\n",
       "      <td>36904</td>\n",
       "      <td>192.168.100.7</td>\n",
       "      <td>80</td>\n",
       "      <td>179855</td>\n",
       "      <td>0.000000</td>\n",
       "      <td>100</td>\n",
       "      <td>0.000000</td>\n",
       "      <td>3</td>\n",
       "      <td>0.000000</td>\n",
       "      <td>100</td>\n",
       "      <td>0.000000</td>\n",
       "      <td>0.162130</td>\n",
       "      <td>0.000000</td>\n",
       "      <td>1</td>\n",
       "      <td>DoS</td>\n",
       "      <td>TCP</td>\n",
       "    </tr>\n",
       "    <tr>\n",
       "      <th>2934816</th>\n",
       "      <td>96906</td>\n",
       "      <td>tcp</td>\n",
       "      <td>192.168.100.150</td>\n",
       "      <td>14302</td>\n",
       "      <td>192.168.100.3</td>\n",
       "      <td>80</td>\n",
       "      <td>95429</td>\n",
       "      <td>0.053820</td>\n",
       "      <td>100</td>\n",
       "      <td>0.064767</td>\n",
       "      <td>1</td>\n",
       "      <td>0.118588</td>\n",
       "      <td>100</td>\n",
       "      <td>0.038796</td>\n",
       "      <td>0.116388</td>\n",
       "      <td>0.172408</td>\n",
       "      <td>1</td>\n",
       "      <td>DoS</td>\n",
       "      <td>TCP</td>\n",
       "    </tr>\n",
       "  </tbody>\n",
       "</table>\n",
       "</div>"
      ],
      "text/plain": [
       "         pkSeqID proto            saddr  sport          daddr dport     seq  \\\n",
       "2934812  1132803   udp  192.168.100.149  56044  192.168.100.5    80  253370   \n",
       "2934813  3384621   udp  192.168.100.150  21546  192.168.100.3    80  231693   \n",
       "2934814   775893   udp  192.168.100.149  30897  192.168.100.5    80  158616   \n",
       "2934815   443484   tcp  192.168.100.147  36904  192.168.100.7    80  179855   \n",
       "2934816    96906   tcp  192.168.100.150  14302  192.168.100.3    80   95429   \n",
       "\n",
       "           stddev  N_IN_Conn_P_SrcIP       min  state_number      mean  \\\n",
       "2934812  0.016992                100  4.082509             4  4.102515   \n",
       "2934813  1.922317                100  0.000000             4  2.718527   \n",
       "2934814  2.112228                100  0.000000             4  2.110766   \n",
       "2934815  0.000000                100  0.000000             3  0.000000   \n",
       "2934816  0.053820                100  0.064767             1  0.118588   \n",
       "\n",
       "         N_IN_Conn_P_DstIP     drate     srate       max  attack category  \\\n",
       "2934812                100  0.000000  0.243473  4.124047       1      DoS   \n",
       "2934813                100  0.000000  0.490800  4.090534       1     DDoS   \n",
       "2934814                100  0.000000  0.207444  4.332615       1      DoS   \n",
       "2934815                100  0.000000  0.162130  0.000000       1      DoS   \n",
       "2934816                100  0.038796  0.116388  0.172408       1      DoS   \n",
       "\n",
       "        subcategory  \n",
       "2934812         UDP  \n",
       "2934813         UDP  \n",
       "2934814         UDP  \n",
       "2934815         TCP  \n",
       "2934816         TCP  "
      ]
     },
     "execution_count": 4,
     "metadata": {},
     "output_type": "execute_result"
    }
   ],
   "source": [
    "df.tail()"
   ]
  },
  {
   "cell_type": "code",
   "execution_count": 5,
   "id": "49b94c5f",
   "metadata": {},
   "outputs": [
    {
     "data": {
      "text/html": [
       "<div>\n",
       "<style scoped>\n",
       "    .dataframe tbody tr th:only-of-type {\n",
       "        vertical-align: middle;\n",
       "    }\n",
       "\n",
       "    .dataframe tbody tr th {\n",
       "        vertical-align: top;\n",
       "    }\n",
       "\n",
       "    .dataframe thead th {\n",
       "        text-align: right;\n",
       "    }\n",
       "</style>\n",
       "<table border=\"1\" class=\"dataframe\">\n",
       "  <thead>\n",
       "    <tr style=\"text-align: right;\">\n",
       "      <th></th>\n",
       "      <th>pkSeqID</th>\n",
       "      <th>proto</th>\n",
       "      <th>saddr</th>\n",
       "      <th>sport</th>\n",
       "      <th>daddr</th>\n",
       "      <th>dport</th>\n",
       "      <th>seq</th>\n",
       "      <th>stddev</th>\n",
       "      <th>N_IN_Conn_P_SrcIP</th>\n",
       "      <th>min</th>\n",
       "      <th>state_number</th>\n",
       "      <th>mean</th>\n",
       "      <th>N_IN_Conn_P_DstIP</th>\n",
       "      <th>drate</th>\n",
       "      <th>srate</th>\n",
       "      <th>max</th>\n",
       "      <th>attack</th>\n",
       "      <th>category</th>\n",
       "      <th>subcategory</th>\n",
       "    </tr>\n",
       "  </thead>\n",
       "  <tbody>\n",
       "    <tr>\n",
       "      <th>0</th>\n",
       "      <td>3142762</td>\n",
       "      <td>udp</td>\n",
       "      <td>192.168.100.150</td>\n",
       "      <td>6551</td>\n",
       "      <td>192.168.100.3</td>\n",
       "      <td>80</td>\n",
       "      <td>251984</td>\n",
       "      <td>1.900363</td>\n",
       "      <td>100</td>\n",
       "      <td>0.000000</td>\n",
       "      <td>4</td>\n",
       "      <td>2.687519</td>\n",
       "      <td>100</td>\n",
       "      <td>0.000000</td>\n",
       "      <td>0.494549</td>\n",
       "      <td>4.031619</td>\n",
       "      <td>1</td>\n",
       "      <td>DDoS</td>\n",
       "      <td>UDP</td>\n",
       "    </tr>\n",
       "    <tr>\n",
       "      <th>1</th>\n",
       "      <td>2432264</td>\n",
       "      <td>tcp</td>\n",
       "      <td>192.168.100.150</td>\n",
       "      <td>5532</td>\n",
       "      <td>192.168.100.3</td>\n",
       "      <td>80</td>\n",
       "      <td>256724</td>\n",
       "      <td>0.078003</td>\n",
       "      <td>38</td>\n",
       "      <td>3.856930</td>\n",
       "      <td>3</td>\n",
       "      <td>3.934927</td>\n",
       "      <td>100</td>\n",
       "      <td>0.000000</td>\n",
       "      <td>0.256493</td>\n",
       "      <td>4.012924</td>\n",
       "      <td>1</td>\n",
       "      <td>DDoS</td>\n",
       "      <td>TCP</td>\n",
       "    </tr>\n",
       "    <tr>\n",
       "      <th>2</th>\n",
       "      <td>1976315</td>\n",
       "      <td>tcp</td>\n",
       "      <td>192.168.100.147</td>\n",
       "      <td>27165</td>\n",
       "      <td>192.168.100.3</td>\n",
       "      <td>80</td>\n",
       "      <td>62921</td>\n",
       "      <td>0.268666</td>\n",
       "      <td>100</td>\n",
       "      <td>2.974100</td>\n",
       "      <td>3</td>\n",
       "      <td>3.341429</td>\n",
       "      <td>100</td>\n",
       "      <td>0.000000</td>\n",
       "      <td>0.294880</td>\n",
       "      <td>3.609205</td>\n",
       "      <td>1</td>\n",
       "      <td>DDoS</td>\n",
       "      <td>TCP</td>\n",
       "    </tr>\n",
       "    <tr>\n",
       "      <th>3</th>\n",
       "      <td>1240757</td>\n",
       "      <td>udp</td>\n",
       "      <td>192.168.100.150</td>\n",
       "      <td>48719</td>\n",
       "      <td>192.168.100.3</td>\n",
       "      <td>80</td>\n",
       "      <td>99168</td>\n",
       "      <td>1.823185</td>\n",
       "      <td>63</td>\n",
       "      <td>0.000000</td>\n",
       "      <td>4</td>\n",
       "      <td>3.222832</td>\n",
       "      <td>63</td>\n",
       "      <td>0.000000</td>\n",
       "      <td>0.461435</td>\n",
       "      <td>4.942302</td>\n",
       "      <td>1</td>\n",
       "      <td>DoS</td>\n",
       "      <td>UDP</td>\n",
       "    </tr>\n",
       "    <tr>\n",
       "      <th>4</th>\n",
       "      <td>3257991</td>\n",
       "      <td>udp</td>\n",
       "      <td>192.168.100.147</td>\n",
       "      <td>22461</td>\n",
       "      <td>192.168.100.3</td>\n",
       "      <td>80</td>\n",
       "      <td>105063</td>\n",
       "      <td>0.822418</td>\n",
       "      <td>100</td>\n",
       "      <td>2.979995</td>\n",
       "      <td>4</td>\n",
       "      <td>3.983222</td>\n",
       "      <td>100</td>\n",
       "      <td>0.000000</td>\n",
       "      <td>1.002999</td>\n",
       "      <td>4.994452</td>\n",
       "      <td>1</td>\n",
       "      <td>DDoS</td>\n",
       "      <td>UDP</td>\n",
       "    </tr>\n",
       "    <tr>\n",
       "      <th>...</th>\n",
       "      <td>...</td>\n",
       "      <td>...</td>\n",
       "      <td>...</td>\n",
       "      <td>...</td>\n",
       "      <td>...</td>\n",
       "      <td>...</td>\n",
       "      <td>...</td>\n",
       "      <td>...</td>\n",
       "      <td>...</td>\n",
       "      <td>...</td>\n",
       "      <td>...</td>\n",
       "      <td>...</td>\n",
       "      <td>...</td>\n",
       "      <td>...</td>\n",
       "      <td>...</td>\n",
       "      <td>...</td>\n",
       "      <td>...</td>\n",
       "      <td>...</td>\n",
       "      <td>...</td>\n",
       "    </tr>\n",
       "    <tr>\n",
       "      <th>2934812</th>\n",
       "      <td>1132803</td>\n",
       "      <td>udp</td>\n",
       "      <td>192.168.100.149</td>\n",
       "      <td>56044</td>\n",
       "      <td>192.168.100.5</td>\n",
       "      <td>80</td>\n",
       "      <td>253370</td>\n",
       "      <td>0.016992</td>\n",
       "      <td>100</td>\n",
       "      <td>4.082509</td>\n",
       "      <td>4</td>\n",
       "      <td>4.102515</td>\n",
       "      <td>100</td>\n",
       "      <td>0.000000</td>\n",
       "      <td>0.243473</td>\n",
       "      <td>4.124047</td>\n",
       "      <td>1</td>\n",
       "      <td>DoS</td>\n",
       "      <td>UDP</td>\n",
       "    </tr>\n",
       "    <tr>\n",
       "      <th>2934813</th>\n",
       "      <td>3384621</td>\n",
       "      <td>udp</td>\n",
       "      <td>192.168.100.150</td>\n",
       "      <td>21546</td>\n",
       "      <td>192.168.100.3</td>\n",
       "      <td>80</td>\n",
       "      <td>231693</td>\n",
       "      <td>1.922317</td>\n",
       "      <td>100</td>\n",
       "      <td>0.000000</td>\n",
       "      <td>4</td>\n",
       "      <td>2.718527</td>\n",
       "      <td>100</td>\n",
       "      <td>0.000000</td>\n",
       "      <td>0.490800</td>\n",
       "      <td>4.090534</td>\n",
       "      <td>1</td>\n",
       "      <td>DDoS</td>\n",
       "      <td>UDP</td>\n",
       "    </tr>\n",
       "    <tr>\n",
       "      <th>2934814</th>\n",
       "      <td>775893</td>\n",
       "      <td>udp</td>\n",
       "      <td>192.168.100.149</td>\n",
       "      <td>30897</td>\n",
       "      <td>192.168.100.5</td>\n",
       "      <td>80</td>\n",
       "      <td>158616</td>\n",
       "      <td>2.112228</td>\n",
       "      <td>100</td>\n",
       "      <td>0.000000</td>\n",
       "      <td>4</td>\n",
       "      <td>2.110766</td>\n",
       "      <td>100</td>\n",
       "      <td>0.000000</td>\n",
       "      <td>0.207444</td>\n",
       "      <td>4.332615</td>\n",
       "      <td>1</td>\n",
       "      <td>DoS</td>\n",
       "      <td>UDP</td>\n",
       "    </tr>\n",
       "    <tr>\n",
       "      <th>2934815</th>\n",
       "      <td>443484</td>\n",
       "      <td>tcp</td>\n",
       "      <td>192.168.100.147</td>\n",
       "      <td>36904</td>\n",
       "      <td>192.168.100.7</td>\n",
       "      <td>80</td>\n",
       "      <td>179855</td>\n",
       "      <td>0.000000</td>\n",
       "      <td>100</td>\n",
       "      <td>0.000000</td>\n",
       "      <td>3</td>\n",
       "      <td>0.000000</td>\n",
       "      <td>100</td>\n",
       "      <td>0.000000</td>\n",
       "      <td>0.162130</td>\n",
       "      <td>0.000000</td>\n",
       "      <td>1</td>\n",
       "      <td>DoS</td>\n",
       "      <td>TCP</td>\n",
       "    </tr>\n",
       "    <tr>\n",
       "      <th>2934816</th>\n",
       "      <td>96906</td>\n",
       "      <td>tcp</td>\n",
       "      <td>192.168.100.150</td>\n",
       "      <td>14302</td>\n",
       "      <td>192.168.100.3</td>\n",
       "      <td>80</td>\n",
       "      <td>95429</td>\n",
       "      <td>0.053820</td>\n",
       "      <td>100</td>\n",
       "      <td>0.064767</td>\n",
       "      <td>1</td>\n",
       "      <td>0.118588</td>\n",
       "      <td>100</td>\n",
       "      <td>0.038796</td>\n",
       "      <td>0.116388</td>\n",
       "      <td>0.172408</td>\n",
       "      <td>1</td>\n",
       "      <td>DoS</td>\n",
       "      <td>TCP</td>\n",
       "    </tr>\n",
       "  </tbody>\n",
       "</table>\n",
       "<p>2934817 rows × 19 columns</p>\n",
       "</div>"
      ],
      "text/plain": [
       "         pkSeqID proto            saddr  sport          daddr dport     seq  \\\n",
       "0        3142762   udp  192.168.100.150   6551  192.168.100.3    80  251984   \n",
       "1        2432264   tcp  192.168.100.150   5532  192.168.100.3    80  256724   \n",
       "2        1976315   tcp  192.168.100.147  27165  192.168.100.3    80   62921   \n",
       "3        1240757   udp  192.168.100.150  48719  192.168.100.3    80   99168   \n",
       "4        3257991   udp  192.168.100.147  22461  192.168.100.3    80  105063   \n",
       "...          ...   ...              ...    ...            ...   ...     ...   \n",
       "2934812  1132803   udp  192.168.100.149  56044  192.168.100.5    80  253370   \n",
       "2934813  3384621   udp  192.168.100.150  21546  192.168.100.3    80  231693   \n",
       "2934814   775893   udp  192.168.100.149  30897  192.168.100.5    80  158616   \n",
       "2934815   443484   tcp  192.168.100.147  36904  192.168.100.7    80  179855   \n",
       "2934816    96906   tcp  192.168.100.150  14302  192.168.100.3    80   95429   \n",
       "\n",
       "           stddev  N_IN_Conn_P_SrcIP       min  state_number      mean  \\\n",
       "0        1.900363                100  0.000000             4  2.687519   \n",
       "1        0.078003                 38  3.856930             3  3.934927   \n",
       "2        0.268666                100  2.974100             3  3.341429   \n",
       "3        1.823185                 63  0.000000             4  3.222832   \n",
       "4        0.822418                100  2.979995             4  3.983222   \n",
       "...           ...                ...       ...           ...       ...   \n",
       "2934812  0.016992                100  4.082509             4  4.102515   \n",
       "2934813  1.922317                100  0.000000             4  2.718527   \n",
       "2934814  2.112228                100  0.000000             4  2.110766   \n",
       "2934815  0.000000                100  0.000000             3  0.000000   \n",
       "2934816  0.053820                100  0.064767             1  0.118588   \n",
       "\n",
       "         N_IN_Conn_P_DstIP     drate     srate       max  attack category  \\\n",
       "0                      100  0.000000  0.494549  4.031619       1     DDoS   \n",
       "1                      100  0.000000  0.256493  4.012924       1     DDoS   \n",
       "2                      100  0.000000  0.294880  3.609205       1     DDoS   \n",
       "3                       63  0.000000  0.461435  4.942302       1      DoS   \n",
       "4                      100  0.000000  1.002999  4.994452       1     DDoS   \n",
       "...                    ...       ...       ...       ...     ...      ...   \n",
       "2934812                100  0.000000  0.243473  4.124047       1      DoS   \n",
       "2934813                100  0.000000  0.490800  4.090534       1     DDoS   \n",
       "2934814                100  0.000000  0.207444  4.332615       1      DoS   \n",
       "2934815                100  0.000000  0.162130  0.000000       1      DoS   \n",
       "2934816                100  0.038796  0.116388  0.172408       1      DoS   \n",
       "\n",
       "        subcategory  \n",
       "0               UDP  \n",
       "1               TCP  \n",
       "2               TCP  \n",
       "3               UDP  \n",
       "4               UDP  \n",
       "...             ...  \n",
       "2934812         UDP  \n",
       "2934813         UDP  \n",
       "2934814         UDP  \n",
       "2934815         TCP  \n",
       "2934816         TCP  \n",
       "\n",
       "[2934817 rows x 19 columns]"
      ]
     },
     "execution_count": 5,
     "metadata": {},
     "output_type": "execute_result"
    }
   ],
   "source": [
    "df"
   ]
  },
  {
   "cell_type": "code",
   "execution_count": 6,
   "id": "bf8d5025",
   "metadata": {},
   "outputs": [],
   "source": [
    "df['attack_label'] = 0"
   ]
  },
  {
   "cell_type": "code",
   "execution_count": 7,
   "id": "524d0534",
   "metadata": {},
   "outputs": [],
   "source": [
    "for i in range(len(df)):\n",
    "    if df['subcategory'][i] != 'UDP':\n",
    "        df['attack_label'][i] = 1"
   ]
  },
  {
   "cell_type": "code",
   "execution_count": 8,
   "id": "18d9449f",
   "metadata": {},
   "outputs": [
    {
     "name": "stdout",
     "output_type": "stream",
     "text": [
      "<class 'pandas.core.frame.DataFrame'>\n",
      "RangeIndex: 2934817 entries, 0 to 2934816\n",
      "Data columns (total 20 columns):\n",
      " #   Column             Dtype  \n",
      "---  ------             -----  \n",
      " 0   pkSeqID            int64  \n",
      " 1   proto              object \n",
      " 2   saddr              object \n",
      " 3   sport              object \n",
      " 4   daddr              object \n",
      " 5   dport              object \n",
      " 6   seq                int64  \n",
      " 7   stddev             float64\n",
      " 8   N_IN_Conn_P_SrcIP  int64  \n",
      " 9   min                float64\n",
      " 10  state_number       int64  \n",
      " 11  mean               float64\n",
      " 12  N_IN_Conn_P_DstIP  int64  \n",
      " 13  drate              float64\n",
      " 14  srate              float64\n",
      " 15  max                float64\n",
      " 16  attack             int64  \n",
      " 17  category           object \n",
      " 18  subcategory        object \n",
      " 19  attack_label       int64  \n",
      "dtypes: float64(6), int64(7), object(7)\n",
      "memory usage: 447.8+ MB\n"
     ]
    }
   ],
   "source": [
    "df.info()"
   ]
  },
  {
   "cell_type": "code",
   "execution_count": 9,
   "id": "a9ad2588",
   "metadata": {},
   "outputs": [
    {
     "data": {
      "text/html": [
       "<div>\n",
       "<style scoped>\n",
       "    .dataframe tbody tr th:only-of-type {\n",
       "        vertical-align: middle;\n",
       "    }\n",
       "\n",
       "    .dataframe tbody tr th {\n",
       "        vertical-align: top;\n",
       "    }\n",
       "\n",
       "    .dataframe thead th {\n",
       "        text-align: right;\n",
       "    }\n",
       "</style>\n",
       "<table border=\"1\" class=\"dataframe\">\n",
       "  <thead>\n",
       "    <tr style=\"text-align: right;\">\n",
       "      <th></th>\n",
       "      <th>pkSeqID</th>\n",
       "      <th>seq</th>\n",
       "      <th>stddev</th>\n",
       "      <th>N_IN_Conn_P_SrcIP</th>\n",
       "      <th>min</th>\n",
       "      <th>state_number</th>\n",
       "      <th>mean</th>\n",
       "      <th>N_IN_Conn_P_DstIP</th>\n",
       "      <th>drate</th>\n",
       "      <th>srate</th>\n",
       "      <th>max</th>\n",
       "      <th>attack</th>\n",
       "      <th>attack_label</th>\n",
       "    </tr>\n",
       "  </thead>\n",
       "  <tbody>\n",
       "    <tr>\n",
       "      <th>count</th>\n",
       "      <td>2.934817e+06</td>\n",
       "      <td>2.934817e+06</td>\n",
       "      <td>2.934817e+06</td>\n",
       "      <td>2.934817e+06</td>\n",
       "      <td>2.934817e+06</td>\n",
       "      <td>2.934817e+06</td>\n",
       "      <td>2.934817e+06</td>\n",
       "      <td>2.934817e+06</td>\n",
       "      <td>2.934817e+06</td>\n",
       "      <td>2.934817e+06</td>\n",
       "      <td>2.934817e+06</td>\n",
       "      <td>2.934817e+06</td>\n",
       "      <td>2.934817e+06</td>\n",
       "    </tr>\n",
       "    <tr>\n",
       "      <th>mean</th>\n",
       "      <td>1.834209e+06</td>\n",
       "      <td>1.212973e+05</td>\n",
       "      <td>8.869639e-01</td>\n",
       "      <td>8.254997e+01</td>\n",
       "      <td>1.017208e+00</td>\n",
       "      <td>3.134219e+00</td>\n",
       "      <td>2.230471e+00</td>\n",
       "      <td>9.245766e+01</td>\n",
       "      <td>4.303064e-01</td>\n",
       "      <td>3.128290e+00</td>\n",
       "      <td>3.019269e+00</td>\n",
       "      <td>9.998739e-01</td>\n",
       "      <td>4.600515e-01</td>\n",
       "    </tr>\n",
       "    <tr>\n",
       "      <th>std</th>\n",
       "      <td>1.059058e+06</td>\n",
       "      <td>7.578700e+04</td>\n",
       "      <td>8.036391e-01</td>\n",
       "      <td>2.439019e+01</td>\n",
       "      <td>1.483551e+00</td>\n",
       "      <td>1.187107e+00</td>\n",
       "      <td>1.517766e+00</td>\n",
       "      <td>1.816651e+01</td>\n",
       "      <td>5.623304e+01</td>\n",
       "      <td>7.845494e+02</td>\n",
       "      <td>1.860915e+00</td>\n",
       "      <td>1.122750e-02</td>\n",
       "      <td>4.984016e-01</td>\n",
       "    </tr>\n",
       "    <tr>\n",
       "      <th>min</th>\n",
       "      <td>1.000000e+00</td>\n",
       "      <td>1.000000e+00</td>\n",
       "      <td>0.000000e+00</td>\n",
       "      <td>1.000000e+00</td>\n",
       "      <td>0.000000e+00</td>\n",
       "      <td>1.000000e+00</td>\n",
       "      <td>0.000000e+00</td>\n",
       "      <td>1.000000e+00</td>\n",
       "      <td>0.000000e+00</td>\n",
       "      <td>0.000000e+00</td>\n",
       "      <td>0.000000e+00</td>\n",
       "      <td>0.000000e+00</td>\n",
       "      <td>0.000000e+00</td>\n",
       "    </tr>\n",
       "    <tr>\n",
       "      <th>25%</th>\n",
       "      <td>9.171090e+05</td>\n",
       "      <td>5.484700e+04</td>\n",
       "      <td>2.999700e-02</td>\n",
       "      <td>6.900000e+01</td>\n",
       "      <td>0.000000e+00</td>\n",
       "      <td>3.000000e+00</td>\n",
       "      <td>1.819340e-01</td>\n",
       "      <td>1.000000e+02</td>\n",
       "      <td>0.000000e+00</td>\n",
       "      <td>1.558450e-01</td>\n",
       "      <td>2.804170e-01</td>\n",
       "      <td>1.000000e+00</td>\n",
       "      <td>0.000000e+00</td>\n",
       "    </tr>\n",
       "    <tr>\n",
       "      <th>50%</th>\n",
       "      <td>1.834316e+06</td>\n",
       "      <td>1.177370e+05</td>\n",
       "      <td>7.925750e-01</td>\n",
       "      <td>1.000000e+02</td>\n",
       "      <td>0.000000e+00</td>\n",
       "      <td>4.000000e+00</td>\n",
       "      <td>2.689973e+00</td>\n",
       "      <td>1.000000e+02</td>\n",
       "      <td>0.000000e+00</td>\n",
       "      <td>2.837800e-01</td>\n",
       "      <td>4.008429e+00</td>\n",
       "      <td>1.000000e+00</td>\n",
       "      <td>0.000000e+00</td>\n",
       "    </tr>\n",
       "    <tr>\n",
       "      <th>75%</th>\n",
       "      <td>2.751250e+06</td>\n",
       "      <td>1.848700e+05</td>\n",
       "      <td>1.745220e+00</td>\n",
       "      <td>1.000000e+02</td>\n",
       "      <td>2.147949e+00</td>\n",
       "      <td>4.000000e+00</td>\n",
       "      <td>3.565061e+00</td>\n",
       "      <td>1.000000e+02</td>\n",
       "      <td>0.000000e+00</td>\n",
       "      <td>4.880000e-01</td>\n",
       "      <td>4.292426e+00</td>\n",
       "      <td>1.000000e+00</td>\n",
       "      <td>1.000000e+00</td>\n",
       "    </tr>\n",
       "    <tr>\n",
       "      <th>max</th>\n",
       "      <td>3.668522e+06</td>\n",
       "      <td>2.622110e+05</td>\n",
       "      <td>2.496763e+00</td>\n",
       "      <td>1.000000e+02</td>\n",
       "      <td>4.980471e+00</td>\n",
       "      <td>1.100000e+01</td>\n",
       "      <td>4.981882e+00</td>\n",
       "      <td>1.000000e+02</td>\n",
       "      <td>5.882353e+04</td>\n",
       "      <td>1.000000e+06</td>\n",
       "      <td>4.999999e+00</td>\n",
       "      <td>1.000000e+00</td>\n",
       "      <td>1.000000e+00</td>\n",
       "    </tr>\n",
       "  </tbody>\n",
       "</table>\n",
       "</div>"
      ],
      "text/plain": [
       "            pkSeqID           seq        stddev  N_IN_Conn_P_SrcIP  \\\n",
       "count  2.934817e+06  2.934817e+06  2.934817e+06       2.934817e+06   \n",
       "mean   1.834209e+06  1.212973e+05  8.869639e-01       8.254997e+01   \n",
       "std    1.059058e+06  7.578700e+04  8.036391e-01       2.439019e+01   \n",
       "min    1.000000e+00  1.000000e+00  0.000000e+00       1.000000e+00   \n",
       "25%    9.171090e+05  5.484700e+04  2.999700e-02       6.900000e+01   \n",
       "50%    1.834316e+06  1.177370e+05  7.925750e-01       1.000000e+02   \n",
       "75%    2.751250e+06  1.848700e+05  1.745220e+00       1.000000e+02   \n",
       "max    3.668522e+06  2.622110e+05  2.496763e+00       1.000000e+02   \n",
       "\n",
       "                min  state_number          mean  N_IN_Conn_P_DstIP  \\\n",
       "count  2.934817e+06  2.934817e+06  2.934817e+06       2.934817e+06   \n",
       "mean   1.017208e+00  3.134219e+00  2.230471e+00       9.245766e+01   \n",
       "std    1.483551e+00  1.187107e+00  1.517766e+00       1.816651e+01   \n",
       "min    0.000000e+00  1.000000e+00  0.000000e+00       1.000000e+00   \n",
       "25%    0.000000e+00  3.000000e+00  1.819340e-01       1.000000e+02   \n",
       "50%    0.000000e+00  4.000000e+00  2.689973e+00       1.000000e+02   \n",
       "75%    2.147949e+00  4.000000e+00  3.565061e+00       1.000000e+02   \n",
       "max    4.980471e+00  1.100000e+01  4.981882e+00       1.000000e+02   \n",
       "\n",
       "              drate         srate           max        attack  attack_label  \n",
       "count  2.934817e+06  2.934817e+06  2.934817e+06  2.934817e+06  2.934817e+06  \n",
       "mean   4.303064e-01  3.128290e+00  3.019269e+00  9.998739e-01  4.600515e-01  \n",
       "std    5.623304e+01  7.845494e+02  1.860915e+00  1.122750e-02  4.984016e-01  \n",
       "min    0.000000e+00  0.000000e+00  0.000000e+00  0.000000e+00  0.000000e+00  \n",
       "25%    0.000000e+00  1.558450e-01  2.804170e-01  1.000000e+00  0.000000e+00  \n",
       "50%    0.000000e+00  2.837800e-01  4.008429e+00  1.000000e+00  0.000000e+00  \n",
       "75%    0.000000e+00  4.880000e-01  4.292426e+00  1.000000e+00  1.000000e+00  \n",
       "max    5.882353e+04  1.000000e+06  4.999999e+00  1.000000e+00  1.000000e+00  "
      ]
     },
     "execution_count": 9,
     "metadata": {},
     "output_type": "execute_result"
    }
   ],
   "source": [
    "df.describe()"
   ]
  },
  {
   "cell_type": "code",
   "execution_count": 10,
   "id": "e6cd153b",
   "metadata": {},
   "outputs": [
    {
     "data": {
      "text/html": [
       "<div>\n",
       "<style scoped>\n",
       "    .dataframe tbody tr th:only-of-type {\n",
       "        vertical-align: middle;\n",
       "    }\n",
       "\n",
       "    .dataframe tbody tr th {\n",
       "        vertical-align: top;\n",
       "    }\n",
       "\n",
       "    .dataframe thead th {\n",
       "        text-align: right;\n",
       "    }\n",
       "</style>\n",
       "<table border=\"1\" class=\"dataframe\">\n",
       "  <thead>\n",
       "    <tr style=\"text-align: right;\">\n",
       "      <th></th>\n",
       "      <th>count</th>\n",
       "      <th>mean</th>\n",
       "      <th>std</th>\n",
       "      <th>min</th>\n",
       "      <th>25%</th>\n",
       "      <th>50%</th>\n",
       "      <th>75%</th>\n",
       "      <th>max</th>\n",
       "    </tr>\n",
       "  </thead>\n",
       "  <tbody>\n",
       "    <tr>\n",
       "      <th>pkSeqID</th>\n",
       "      <td>2934817.0</td>\n",
       "      <td>1.834209e+06</td>\n",
       "      <td>1.059058e+06</td>\n",
       "      <td>1.0</td>\n",
       "      <td>917109.000000</td>\n",
       "      <td>1.834316e+06</td>\n",
       "      <td>2.751250e+06</td>\n",
       "      <td>3.668522e+06</td>\n",
       "    </tr>\n",
       "    <tr>\n",
       "      <th>seq</th>\n",
       "      <td>2934817.0</td>\n",
       "      <td>1.212973e+05</td>\n",
       "      <td>7.578700e+04</td>\n",
       "      <td>1.0</td>\n",
       "      <td>54847.000000</td>\n",
       "      <td>1.177370e+05</td>\n",
       "      <td>1.848700e+05</td>\n",
       "      <td>2.622110e+05</td>\n",
       "    </tr>\n",
       "    <tr>\n",
       "      <th>stddev</th>\n",
       "      <td>2934817.0</td>\n",
       "      <td>8.869639e-01</td>\n",
       "      <td>8.036391e-01</td>\n",
       "      <td>0.0</td>\n",
       "      <td>0.029997</td>\n",
       "      <td>7.925750e-01</td>\n",
       "      <td>1.745220e+00</td>\n",
       "      <td>2.496763e+00</td>\n",
       "    </tr>\n",
       "    <tr>\n",
       "      <th>N_IN_Conn_P_SrcIP</th>\n",
       "      <td>2934817.0</td>\n",
       "      <td>8.254997e+01</td>\n",
       "      <td>2.439019e+01</td>\n",
       "      <td>1.0</td>\n",
       "      <td>69.000000</td>\n",
       "      <td>1.000000e+02</td>\n",
       "      <td>1.000000e+02</td>\n",
       "      <td>1.000000e+02</td>\n",
       "    </tr>\n",
       "    <tr>\n",
       "      <th>min</th>\n",
       "      <td>2934817.0</td>\n",
       "      <td>1.017208e+00</td>\n",
       "      <td>1.483551e+00</td>\n",
       "      <td>0.0</td>\n",
       "      <td>0.000000</td>\n",
       "      <td>0.000000e+00</td>\n",
       "      <td>2.147949e+00</td>\n",
       "      <td>4.980471e+00</td>\n",
       "    </tr>\n",
       "    <tr>\n",
       "      <th>state_number</th>\n",
       "      <td>2934817.0</td>\n",
       "      <td>3.134219e+00</td>\n",
       "      <td>1.187107e+00</td>\n",
       "      <td>1.0</td>\n",
       "      <td>3.000000</td>\n",
       "      <td>4.000000e+00</td>\n",
       "      <td>4.000000e+00</td>\n",
       "      <td>1.100000e+01</td>\n",
       "    </tr>\n",
       "    <tr>\n",
       "      <th>mean</th>\n",
       "      <td>2934817.0</td>\n",
       "      <td>2.230471e+00</td>\n",
       "      <td>1.517766e+00</td>\n",
       "      <td>0.0</td>\n",
       "      <td>0.181934</td>\n",
       "      <td>2.689973e+00</td>\n",
       "      <td>3.565061e+00</td>\n",
       "      <td>4.981882e+00</td>\n",
       "    </tr>\n",
       "    <tr>\n",
       "      <th>N_IN_Conn_P_DstIP</th>\n",
       "      <td>2934817.0</td>\n",
       "      <td>9.245766e+01</td>\n",
       "      <td>1.816651e+01</td>\n",
       "      <td>1.0</td>\n",
       "      <td>100.000000</td>\n",
       "      <td>1.000000e+02</td>\n",
       "      <td>1.000000e+02</td>\n",
       "      <td>1.000000e+02</td>\n",
       "    </tr>\n",
       "    <tr>\n",
       "      <th>drate</th>\n",
       "      <td>2934817.0</td>\n",
       "      <td>4.303064e-01</td>\n",
       "      <td>5.623304e+01</td>\n",
       "      <td>0.0</td>\n",
       "      <td>0.000000</td>\n",
       "      <td>0.000000e+00</td>\n",
       "      <td>0.000000e+00</td>\n",
       "      <td>5.882353e+04</td>\n",
       "    </tr>\n",
       "    <tr>\n",
       "      <th>srate</th>\n",
       "      <td>2934817.0</td>\n",
       "      <td>3.128290e+00</td>\n",
       "      <td>7.845494e+02</td>\n",
       "      <td>0.0</td>\n",
       "      <td>0.155845</td>\n",
       "      <td>2.837800e-01</td>\n",
       "      <td>4.880000e-01</td>\n",
       "      <td>1.000000e+06</td>\n",
       "    </tr>\n",
       "    <tr>\n",
       "      <th>max</th>\n",
       "      <td>2934817.0</td>\n",
       "      <td>3.019269e+00</td>\n",
       "      <td>1.860915e+00</td>\n",
       "      <td>0.0</td>\n",
       "      <td>0.280417</td>\n",
       "      <td>4.008429e+00</td>\n",
       "      <td>4.292426e+00</td>\n",
       "      <td>4.999999e+00</td>\n",
       "    </tr>\n",
       "    <tr>\n",
       "      <th>attack</th>\n",
       "      <td>2934817.0</td>\n",
       "      <td>9.998739e-01</td>\n",
       "      <td>1.122750e-02</td>\n",
       "      <td>0.0</td>\n",
       "      <td>1.000000</td>\n",
       "      <td>1.000000e+00</td>\n",
       "      <td>1.000000e+00</td>\n",
       "      <td>1.000000e+00</td>\n",
       "    </tr>\n",
       "    <tr>\n",
       "      <th>attack_label</th>\n",
       "      <td>2934817.0</td>\n",
       "      <td>4.600515e-01</td>\n",
       "      <td>4.984016e-01</td>\n",
       "      <td>0.0</td>\n",
       "      <td>0.000000</td>\n",
       "      <td>0.000000e+00</td>\n",
       "      <td>1.000000e+00</td>\n",
       "      <td>1.000000e+00</td>\n",
       "    </tr>\n",
       "  </tbody>\n",
       "</table>\n",
       "</div>"
      ],
      "text/plain": [
       "                       count          mean           std  min            25%  \\\n",
       "pkSeqID            2934817.0  1.834209e+06  1.059058e+06  1.0  917109.000000   \n",
       "seq                2934817.0  1.212973e+05  7.578700e+04  1.0   54847.000000   \n",
       "stddev             2934817.0  8.869639e-01  8.036391e-01  0.0       0.029997   \n",
       "N_IN_Conn_P_SrcIP  2934817.0  8.254997e+01  2.439019e+01  1.0      69.000000   \n",
       "min                2934817.0  1.017208e+00  1.483551e+00  0.0       0.000000   \n",
       "state_number       2934817.0  3.134219e+00  1.187107e+00  1.0       3.000000   \n",
       "mean               2934817.0  2.230471e+00  1.517766e+00  0.0       0.181934   \n",
       "N_IN_Conn_P_DstIP  2934817.0  9.245766e+01  1.816651e+01  1.0     100.000000   \n",
       "drate              2934817.0  4.303064e-01  5.623304e+01  0.0       0.000000   \n",
       "srate              2934817.0  3.128290e+00  7.845494e+02  0.0       0.155845   \n",
       "max                2934817.0  3.019269e+00  1.860915e+00  0.0       0.280417   \n",
       "attack             2934817.0  9.998739e-01  1.122750e-02  0.0       1.000000   \n",
       "attack_label       2934817.0  4.600515e-01  4.984016e-01  0.0       0.000000   \n",
       "\n",
       "                            50%           75%           max  \n",
       "pkSeqID            1.834316e+06  2.751250e+06  3.668522e+06  \n",
       "seq                1.177370e+05  1.848700e+05  2.622110e+05  \n",
       "stddev             7.925750e-01  1.745220e+00  2.496763e+00  \n",
       "N_IN_Conn_P_SrcIP  1.000000e+02  1.000000e+02  1.000000e+02  \n",
       "min                0.000000e+00  2.147949e+00  4.980471e+00  \n",
       "state_number       4.000000e+00  4.000000e+00  1.100000e+01  \n",
       "mean               2.689973e+00  3.565061e+00  4.981882e+00  \n",
       "N_IN_Conn_P_DstIP  1.000000e+02  1.000000e+02  1.000000e+02  \n",
       "drate              0.000000e+00  0.000000e+00  5.882353e+04  \n",
       "srate              2.837800e-01  4.880000e-01  1.000000e+06  \n",
       "max                4.008429e+00  4.292426e+00  4.999999e+00  \n",
       "attack             1.000000e+00  1.000000e+00  1.000000e+00  \n",
       "attack_label       0.000000e+00  1.000000e+00  1.000000e+00  "
      ]
     },
     "execution_count": 10,
     "metadata": {},
     "output_type": "execute_result"
    }
   ],
   "source": [
    "df.describe().transpose()"
   ]
  },
  {
   "cell_type": "code",
   "execution_count": 11,
   "id": "d1e513ef",
   "metadata": {},
   "outputs": [
    {
     "data": {
      "text/plain": [
       "UDP                  1584650\n",
       "TCP                  1274843\n",
       "Service_Scan           58626\n",
       "OS_Fingerprint         14293\n",
       "HTTP                    1970\n",
       "Normal                   370\n",
       "Keylogging                59\n",
       "Data_Exfiltration          6\n",
       "Name: subcategory, dtype: int64"
      ]
     },
     "execution_count": 11,
     "metadata": {},
     "output_type": "execute_result"
    }
   ],
   "source": [
    "df['subcategory'].value_counts()"
   ]
  },
  {
   "cell_type": "code",
   "execution_count": 12,
   "id": "dd5b4959",
   "metadata": {},
   "outputs": [
    {
     "data": {
      "text/plain": [
       "udp          1596819\n",
       "tcp          1330598\n",
       "icmp            7228\n",
       "arp              166\n",
       "ipv6-icmp          6\n",
       "Name: proto, dtype: int64"
      ]
     },
     "execution_count": 12,
     "metadata": {},
     "output_type": "execute_result"
    }
   ],
   "source": [
    "df['proto'].value_counts()"
   ]
  },
  {
   "cell_type": "code",
   "execution_count": 13,
   "id": "003c4d99",
   "metadata": {},
   "outputs": [
    {
     "data": {
      "text/html": [
       "<div>\n",
       "<style scoped>\n",
       "    .dataframe tbody tr th:only-of-type {\n",
       "        vertical-align: middle;\n",
       "    }\n",
       "\n",
       "    .dataframe tbody tr th {\n",
       "        vertical-align: top;\n",
       "    }\n",
       "\n",
       "    .dataframe thead th {\n",
       "        text-align: right;\n",
       "    }\n",
       "</style>\n",
       "<table border=\"1\" class=\"dataframe\">\n",
       "  <thead>\n",
       "    <tr style=\"text-align: right;\">\n",
       "      <th></th>\n",
       "      <th>pkSeqID</th>\n",
       "      <th>seq</th>\n",
       "      <th>stddev</th>\n",
       "      <th>N_IN_Conn_P_SrcIP</th>\n",
       "      <th>min</th>\n",
       "      <th>state_number</th>\n",
       "      <th>mean</th>\n",
       "      <th>N_IN_Conn_P_DstIP</th>\n",
       "      <th>drate</th>\n",
       "      <th>srate</th>\n",
       "      <th>max</th>\n",
       "      <th>attack</th>\n",
       "      <th>attack_label</th>\n",
       "    </tr>\n",
       "  </thead>\n",
       "  <tbody>\n",
       "    <tr>\n",
       "      <th>pkSeqID</th>\n",
       "      <td>1.000000</td>\n",
       "      <td>-0.027136</td>\n",
       "      <td>0.162617</td>\n",
       "      <td>-0.034084</td>\n",
       "      <td>0.285961</td>\n",
       "      <td>0.202782</td>\n",
       "      <td>0.398544</td>\n",
       "      <td>0.344883</td>\n",
       "      <td>0.012629</td>\n",
       "      <td>0.005549</td>\n",
       "      <td>0.349825</td>\n",
       "      <td>-0.018480</td>\n",
       "      <td>-0.247338</td>\n",
       "    </tr>\n",
       "    <tr>\n",
       "      <th>seq</th>\n",
       "      <td>-0.027136</td>\n",
       "      <td>1.000000</td>\n",
       "      <td>0.071785</td>\n",
       "      <td>0.066903</td>\n",
       "      <td>0.016441</td>\n",
       "      <td>0.051894</td>\n",
       "      <td>0.059093</td>\n",
       "      <td>0.052820</td>\n",
       "      <td>-0.011199</td>\n",
       "      <td>-0.004691</td>\n",
       "      <td>0.072290</td>\n",
       "      <td>0.016659</td>\n",
       "      <td>-0.067002</td>\n",
       "    </tr>\n",
       "    <tr>\n",
       "      <th>stddev</th>\n",
       "      <td>0.162617</td>\n",
       "      <td>0.071785</td>\n",
       "      <td>1.000000</td>\n",
       "      <td>0.041382</td>\n",
       "      <td>-0.375931</td>\n",
       "      <td>0.339865</td>\n",
       "      <td>0.350581</td>\n",
       "      <td>0.040469</td>\n",
       "      <td>-0.008364</td>\n",
       "      <td>-0.003818</td>\n",
       "      <td>0.668193</td>\n",
       "      <td>0.011872</td>\n",
       "      <td>-0.412990</td>\n",
       "    </tr>\n",
       "    <tr>\n",
       "      <th>N_IN_Conn_P_SrcIP</th>\n",
       "      <td>-0.034084</td>\n",
       "      <td>0.066903</td>\n",
       "      <td>0.041382</td>\n",
       "      <td>1.000000</td>\n",
       "      <td>0.028413</td>\n",
       "      <td>0.036031</td>\n",
       "      <td>0.061703</td>\n",
       "      <td>0.575716</td>\n",
       "      <td>-0.008289</td>\n",
       "      <td>-0.005509</td>\n",
       "      <td>0.065151</td>\n",
       "      <td>0.028637</td>\n",
       "      <td>-0.088019</td>\n",
       "    </tr>\n",
       "    <tr>\n",
       "      <th>min</th>\n",
       "      <td>0.285961</td>\n",
       "      <td>0.016441</td>\n",
       "      <td>-0.375931</td>\n",
       "      <td>0.028413</td>\n",
       "      <td>1.000000</td>\n",
       "      <td>0.275102</td>\n",
       "      <td>0.694039</td>\n",
       "      <td>0.103538</td>\n",
       "      <td>-0.005078</td>\n",
       "      <td>-0.002126</td>\n",
       "      <td>0.427138</td>\n",
       "      <td>0.005226</td>\n",
       "      <td>-0.349599</td>\n",
       "    </tr>\n",
       "    <tr>\n",
       "      <th>state_number</th>\n",
       "      <td>0.202782</td>\n",
       "      <td>0.051894</td>\n",
       "      <td>0.339865</td>\n",
       "      <td>0.036031</td>\n",
       "      <td>0.275102</td>\n",
       "      <td>1.000000</td>\n",
       "      <td>0.571467</td>\n",
       "      <td>-0.047885</td>\n",
       "      <td>-0.003675</td>\n",
       "      <td>-0.004353</td>\n",
       "      <td>0.565148</td>\n",
       "      <td>0.002701</td>\n",
       "      <td>-0.790099</td>\n",
       "    </tr>\n",
       "    <tr>\n",
       "      <th>mean</th>\n",
       "      <td>0.398544</td>\n",
       "      <td>0.059093</td>\n",
       "      <td>0.350581</td>\n",
       "      <td>0.061703</td>\n",
       "      <td>0.694039</td>\n",
       "      <td>0.571467</td>\n",
       "      <td>1.000000</td>\n",
       "      <td>0.120107</td>\n",
       "      <td>-0.011026</td>\n",
       "      <td>-0.004828</td>\n",
       "      <td>0.908659</td>\n",
       "      <td>0.012848</td>\n",
       "      <td>-0.719619</td>\n",
       "    </tr>\n",
       "    <tr>\n",
       "      <th>N_IN_Conn_P_DstIP</th>\n",
       "      <td>0.344883</td>\n",
       "      <td>0.052820</td>\n",
       "      <td>0.040469</td>\n",
       "      <td>0.575716</td>\n",
       "      <td>0.103538</td>\n",
       "      <td>-0.047885</td>\n",
       "      <td>0.120107</td>\n",
       "      <td>1.000000</td>\n",
       "      <td>-0.003527</td>\n",
       "      <td>-0.004412</td>\n",
       "      <td>0.101192</td>\n",
       "      <td>0.052049</td>\n",
       "      <td>0.019789</td>\n",
       "    </tr>\n",
       "    <tr>\n",
       "      <th>drate</th>\n",
       "      <td>0.012629</td>\n",
       "      <td>-0.011199</td>\n",
       "      <td>-0.008364</td>\n",
       "      <td>-0.008289</td>\n",
       "      <td>-0.005078</td>\n",
       "      <td>-0.003675</td>\n",
       "      <td>-0.011026</td>\n",
       "      <td>-0.003527</td>\n",
       "      <td>1.000000</td>\n",
       "      <td>0.036855</td>\n",
       "      <td>-0.012199</td>\n",
       "      <td>-0.002730</td>\n",
       "      <td>0.008290</td>\n",
       "    </tr>\n",
       "    <tr>\n",
       "      <th>srate</th>\n",
       "      <td>0.005549</td>\n",
       "      <td>-0.004691</td>\n",
       "      <td>-0.003818</td>\n",
       "      <td>-0.005509</td>\n",
       "      <td>-0.002126</td>\n",
       "      <td>-0.004353</td>\n",
       "      <td>-0.004828</td>\n",
       "      <td>-0.004412</td>\n",
       "      <td>0.036855</td>\n",
       "      <td>1.000000</td>\n",
       "      <td>-0.005418</td>\n",
       "      <td>-0.096710</td>\n",
       "      <td>0.003659</td>\n",
       "    </tr>\n",
       "    <tr>\n",
       "      <th>max</th>\n",
       "      <td>0.349825</td>\n",
       "      <td>0.072290</td>\n",
       "      <td>0.668193</td>\n",
       "      <td>0.065151</td>\n",
       "      <td>0.427138</td>\n",
       "      <td>0.565148</td>\n",
       "      <td>0.908659</td>\n",
       "      <td>0.101192</td>\n",
       "      <td>-0.012199</td>\n",
       "      <td>-0.005418</td>\n",
       "      <td>1.000000</td>\n",
       "      <td>0.015015</td>\n",
       "      <td>-0.701792</td>\n",
       "    </tr>\n",
       "    <tr>\n",
       "      <th>attack</th>\n",
       "      <td>-0.018480</td>\n",
       "      <td>0.016659</td>\n",
       "      <td>0.011872</td>\n",
       "      <td>0.028637</td>\n",
       "      <td>0.005226</td>\n",
       "      <td>0.002701</td>\n",
       "      <td>0.012848</td>\n",
       "      <td>0.052049</td>\n",
       "      <td>-0.002730</td>\n",
       "      <td>-0.096710</td>\n",
       "      <td>0.015015</td>\n",
       "      <td>1.000000</td>\n",
       "      <td>-0.012165</td>\n",
       "    </tr>\n",
       "    <tr>\n",
       "      <th>attack_label</th>\n",
       "      <td>-0.247338</td>\n",
       "      <td>-0.067002</td>\n",
       "      <td>-0.412990</td>\n",
       "      <td>-0.088019</td>\n",
       "      <td>-0.349599</td>\n",
       "      <td>-0.790099</td>\n",
       "      <td>-0.719619</td>\n",
       "      <td>0.019789</td>\n",
       "      <td>0.008290</td>\n",
       "      <td>0.003659</td>\n",
       "      <td>-0.701792</td>\n",
       "      <td>-0.012165</td>\n",
       "      <td>1.000000</td>\n",
       "    </tr>\n",
       "  </tbody>\n",
       "</table>\n",
       "</div>"
      ],
      "text/plain": [
       "                    pkSeqID       seq    stddev  N_IN_Conn_P_SrcIP       min  \\\n",
       "pkSeqID            1.000000 -0.027136  0.162617          -0.034084  0.285961   \n",
       "seq               -0.027136  1.000000  0.071785           0.066903  0.016441   \n",
       "stddev             0.162617  0.071785  1.000000           0.041382 -0.375931   \n",
       "N_IN_Conn_P_SrcIP -0.034084  0.066903  0.041382           1.000000  0.028413   \n",
       "min                0.285961  0.016441 -0.375931           0.028413  1.000000   \n",
       "state_number       0.202782  0.051894  0.339865           0.036031  0.275102   \n",
       "mean               0.398544  0.059093  0.350581           0.061703  0.694039   \n",
       "N_IN_Conn_P_DstIP  0.344883  0.052820  0.040469           0.575716  0.103538   \n",
       "drate              0.012629 -0.011199 -0.008364          -0.008289 -0.005078   \n",
       "srate              0.005549 -0.004691 -0.003818          -0.005509 -0.002126   \n",
       "max                0.349825  0.072290  0.668193           0.065151  0.427138   \n",
       "attack            -0.018480  0.016659  0.011872           0.028637  0.005226   \n",
       "attack_label      -0.247338 -0.067002 -0.412990          -0.088019 -0.349599   \n",
       "\n",
       "                   state_number      mean  N_IN_Conn_P_DstIP     drate  \\\n",
       "pkSeqID                0.202782  0.398544           0.344883  0.012629   \n",
       "seq                    0.051894  0.059093           0.052820 -0.011199   \n",
       "stddev                 0.339865  0.350581           0.040469 -0.008364   \n",
       "N_IN_Conn_P_SrcIP      0.036031  0.061703           0.575716 -0.008289   \n",
       "min                    0.275102  0.694039           0.103538 -0.005078   \n",
       "state_number           1.000000  0.571467          -0.047885 -0.003675   \n",
       "mean                   0.571467  1.000000           0.120107 -0.011026   \n",
       "N_IN_Conn_P_DstIP     -0.047885  0.120107           1.000000 -0.003527   \n",
       "drate                 -0.003675 -0.011026          -0.003527  1.000000   \n",
       "srate                 -0.004353 -0.004828          -0.004412  0.036855   \n",
       "max                    0.565148  0.908659           0.101192 -0.012199   \n",
       "attack                 0.002701  0.012848           0.052049 -0.002730   \n",
       "attack_label          -0.790099 -0.719619           0.019789  0.008290   \n",
       "\n",
       "                      srate       max    attack  attack_label  \n",
       "pkSeqID            0.005549  0.349825 -0.018480     -0.247338  \n",
       "seq               -0.004691  0.072290  0.016659     -0.067002  \n",
       "stddev            -0.003818  0.668193  0.011872     -0.412990  \n",
       "N_IN_Conn_P_SrcIP -0.005509  0.065151  0.028637     -0.088019  \n",
       "min               -0.002126  0.427138  0.005226     -0.349599  \n",
       "state_number      -0.004353  0.565148  0.002701     -0.790099  \n",
       "mean              -0.004828  0.908659  0.012848     -0.719619  \n",
       "N_IN_Conn_P_DstIP -0.004412  0.101192  0.052049      0.019789  \n",
       "drate              0.036855 -0.012199 -0.002730      0.008290  \n",
       "srate              1.000000 -0.005418 -0.096710      0.003659  \n",
       "max               -0.005418  1.000000  0.015015     -0.701792  \n",
       "attack            -0.096710  0.015015  1.000000     -0.012165  \n",
       "attack_label       0.003659 -0.701792 -0.012165      1.000000  "
      ]
     },
     "execution_count": 13,
     "metadata": {},
     "output_type": "execute_result"
    }
   ],
   "source": [
    "df.corr()"
   ]
  },
  {
   "cell_type": "code",
   "execution_count": 14,
   "id": "6ef1cebe",
   "metadata": {},
   "outputs": [
    {
     "data": {
      "text/plain": [
       "0          False\n",
       "1          False\n",
       "2          False\n",
       "3          False\n",
       "4          False\n",
       "           ...  \n",
       "2934812    False\n",
       "2934813    False\n",
       "2934814    False\n",
       "2934815    False\n",
       "2934816    False\n",
       "Length: 2934817, dtype: bool"
      ]
     },
     "execution_count": 14,
     "metadata": {},
     "output_type": "execute_result"
    }
   ],
   "source": [
    "df.duplicated()"
   ]
  },
  {
   "cell_type": "code",
   "execution_count": 15,
   "id": "60ca66ac",
   "metadata": {},
   "outputs": [
    {
     "data": {
      "text/html": [
       "<div>\n",
       "<style scoped>\n",
       "    .dataframe tbody tr th:only-of-type {\n",
       "        vertical-align: middle;\n",
       "    }\n",
       "\n",
       "    .dataframe tbody tr th {\n",
       "        vertical-align: top;\n",
       "    }\n",
       "\n",
       "    .dataframe thead th {\n",
       "        text-align: right;\n",
       "    }\n",
       "</style>\n",
       "<table border=\"1\" class=\"dataframe\">\n",
       "  <thead>\n",
       "    <tr style=\"text-align: right;\">\n",
       "      <th></th>\n",
       "      <th>pkSeqID</th>\n",
       "      <th>proto</th>\n",
       "      <th>saddr</th>\n",
       "      <th>sport</th>\n",
       "      <th>daddr</th>\n",
       "      <th>dport</th>\n",
       "      <th>seq</th>\n",
       "      <th>stddev</th>\n",
       "      <th>N_IN_Conn_P_SrcIP</th>\n",
       "      <th>min</th>\n",
       "      <th>state_number</th>\n",
       "      <th>mean</th>\n",
       "      <th>N_IN_Conn_P_DstIP</th>\n",
       "      <th>drate</th>\n",
       "      <th>srate</th>\n",
       "      <th>max</th>\n",
       "      <th>attack</th>\n",
       "      <th>category</th>\n",
       "      <th>subcategory</th>\n",
       "      <th>attack_label</th>\n",
       "    </tr>\n",
       "  </thead>\n",
       "  <tbody>\n",
       "    <tr>\n",
       "      <th>0</th>\n",
       "      <td>3142762</td>\n",
       "      <td>udp</td>\n",
       "      <td>192.168.100.150</td>\n",
       "      <td>6551</td>\n",
       "      <td>192.168.100.3</td>\n",
       "      <td>80</td>\n",
       "      <td>251984</td>\n",
       "      <td>1.900363</td>\n",
       "      <td>100</td>\n",
       "      <td>0.000000</td>\n",
       "      <td>4</td>\n",
       "      <td>2.687519</td>\n",
       "      <td>100</td>\n",
       "      <td>0.000000</td>\n",
       "      <td>0.494549</td>\n",
       "      <td>4.031619</td>\n",
       "      <td>1</td>\n",
       "      <td>DDoS</td>\n",
       "      <td>UDP</td>\n",
       "      <td>0</td>\n",
       "    </tr>\n",
       "    <tr>\n",
       "      <th>1</th>\n",
       "      <td>2432264</td>\n",
       "      <td>tcp</td>\n",
       "      <td>192.168.100.150</td>\n",
       "      <td>5532</td>\n",
       "      <td>192.168.100.3</td>\n",
       "      <td>80</td>\n",
       "      <td>256724</td>\n",
       "      <td>0.078003</td>\n",
       "      <td>38</td>\n",
       "      <td>3.856930</td>\n",
       "      <td>3</td>\n",
       "      <td>3.934927</td>\n",
       "      <td>100</td>\n",
       "      <td>0.000000</td>\n",
       "      <td>0.256493</td>\n",
       "      <td>4.012924</td>\n",
       "      <td>1</td>\n",
       "      <td>DDoS</td>\n",
       "      <td>TCP</td>\n",
       "      <td>1</td>\n",
       "    </tr>\n",
       "    <tr>\n",
       "      <th>2</th>\n",
       "      <td>1976315</td>\n",
       "      <td>tcp</td>\n",
       "      <td>192.168.100.147</td>\n",
       "      <td>27165</td>\n",
       "      <td>192.168.100.3</td>\n",
       "      <td>80</td>\n",
       "      <td>62921</td>\n",
       "      <td>0.268666</td>\n",
       "      <td>100</td>\n",
       "      <td>2.974100</td>\n",
       "      <td>3</td>\n",
       "      <td>3.341429</td>\n",
       "      <td>100</td>\n",
       "      <td>0.000000</td>\n",
       "      <td>0.294880</td>\n",
       "      <td>3.609205</td>\n",
       "      <td>1</td>\n",
       "      <td>DDoS</td>\n",
       "      <td>TCP</td>\n",
       "      <td>1</td>\n",
       "    </tr>\n",
       "    <tr>\n",
       "      <th>3</th>\n",
       "      <td>1240757</td>\n",
       "      <td>udp</td>\n",
       "      <td>192.168.100.150</td>\n",
       "      <td>48719</td>\n",
       "      <td>192.168.100.3</td>\n",
       "      <td>80</td>\n",
       "      <td>99168</td>\n",
       "      <td>1.823185</td>\n",
       "      <td>63</td>\n",
       "      <td>0.000000</td>\n",
       "      <td>4</td>\n",
       "      <td>3.222832</td>\n",
       "      <td>63</td>\n",
       "      <td>0.000000</td>\n",
       "      <td>0.461435</td>\n",
       "      <td>4.942302</td>\n",
       "      <td>1</td>\n",
       "      <td>DoS</td>\n",
       "      <td>UDP</td>\n",
       "      <td>0</td>\n",
       "    </tr>\n",
       "    <tr>\n",
       "      <th>4</th>\n",
       "      <td>3257991</td>\n",
       "      <td>udp</td>\n",
       "      <td>192.168.100.147</td>\n",
       "      <td>22461</td>\n",
       "      <td>192.168.100.3</td>\n",
       "      <td>80</td>\n",
       "      <td>105063</td>\n",
       "      <td>0.822418</td>\n",
       "      <td>100</td>\n",
       "      <td>2.979995</td>\n",
       "      <td>4</td>\n",
       "      <td>3.983222</td>\n",
       "      <td>100</td>\n",
       "      <td>0.000000</td>\n",
       "      <td>1.002999</td>\n",
       "      <td>4.994452</td>\n",
       "      <td>1</td>\n",
       "      <td>DDoS</td>\n",
       "      <td>UDP</td>\n",
       "      <td>0</td>\n",
       "    </tr>\n",
       "    <tr>\n",
       "      <th>...</th>\n",
       "      <td>...</td>\n",
       "      <td>...</td>\n",
       "      <td>...</td>\n",
       "      <td>...</td>\n",
       "      <td>...</td>\n",
       "      <td>...</td>\n",
       "      <td>...</td>\n",
       "      <td>...</td>\n",
       "      <td>...</td>\n",
       "      <td>...</td>\n",
       "      <td>...</td>\n",
       "      <td>...</td>\n",
       "      <td>...</td>\n",
       "      <td>...</td>\n",
       "      <td>...</td>\n",
       "      <td>...</td>\n",
       "      <td>...</td>\n",
       "      <td>...</td>\n",
       "      <td>...</td>\n",
       "      <td>...</td>\n",
       "    </tr>\n",
       "    <tr>\n",
       "      <th>2934812</th>\n",
       "      <td>1132803</td>\n",
       "      <td>udp</td>\n",
       "      <td>192.168.100.149</td>\n",
       "      <td>56044</td>\n",
       "      <td>192.168.100.5</td>\n",
       "      <td>80</td>\n",
       "      <td>253370</td>\n",
       "      <td>0.016992</td>\n",
       "      <td>100</td>\n",
       "      <td>4.082509</td>\n",
       "      <td>4</td>\n",
       "      <td>4.102515</td>\n",
       "      <td>100</td>\n",
       "      <td>0.000000</td>\n",
       "      <td>0.243473</td>\n",
       "      <td>4.124047</td>\n",
       "      <td>1</td>\n",
       "      <td>DoS</td>\n",
       "      <td>UDP</td>\n",
       "      <td>0</td>\n",
       "    </tr>\n",
       "    <tr>\n",
       "      <th>2934813</th>\n",
       "      <td>3384621</td>\n",
       "      <td>udp</td>\n",
       "      <td>192.168.100.150</td>\n",
       "      <td>21546</td>\n",
       "      <td>192.168.100.3</td>\n",
       "      <td>80</td>\n",
       "      <td>231693</td>\n",
       "      <td>1.922317</td>\n",
       "      <td>100</td>\n",
       "      <td>0.000000</td>\n",
       "      <td>4</td>\n",
       "      <td>2.718527</td>\n",
       "      <td>100</td>\n",
       "      <td>0.000000</td>\n",
       "      <td>0.490800</td>\n",
       "      <td>4.090534</td>\n",
       "      <td>1</td>\n",
       "      <td>DDoS</td>\n",
       "      <td>UDP</td>\n",
       "      <td>0</td>\n",
       "    </tr>\n",
       "    <tr>\n",
       "      <th>2934814</th>\n",
       "      <td>775893</td>\n",
       "      <td>udp</td>\n",
       "      <td>192.168.100.149</td>\n",
       "      <td>30897</td>\n",
       "      <td>192.168.100.5</td>\n",
       "      <td>80</td>\n",
       "      <td>158616</td>\n",
       "      <td>2.112228</td>\n",
       "      <td>100</td>\n",
       "      <td>0.000000</td>\n",
       "      <td>4</td>\n",
       "      <td>2.110766</td>\n",
       "      <td>100</td>\n",
       "      <td>0.000000</td>\n",
       "      <td>0.207444</td>\n",
       "      <td>4.332615</td>\n",
       "      <td>1</td>\n",
       "      <td>DoS</td>\n",
       "      <td>UDP</td>\n",
       "      <td>0</td>\n",
       "    </tr>\n",
       "    <tr>\n",
       "      <th>2934815</th>\n",
       "      <td>443484</td>\n",
       "      <td>tcp</td>\n",
       "      <td>192.168.100.147</td>\n",
       "      <td>36904</td>\n",
       "      <td>192.168.100.7</td>\n",
       "      <td>80</td>\n",
       "      <td>179855</td>\n",
       "      <td>0.000000</td>\n",
       "      <td>100</td>\n",
       "      <td>0.000000</td>\n",
       "      <td>3</td>\n",
       "      <td>0.000000</td>\n",
       "      <td>100</td>\n",
       "      <td>0.000000</td>\n",
       "      <td>0.162130</td>\n",
       "      <td>0.000000</td>\n",
       "      <td>1</td>\n",
       "      <td>DoS</td>\n",
       "      <td>TCP</td>\n",
       "      <td>1</td>\n",
       "    </tr>\n",
       "    <tr>\n",
       "      <th>2934816</th>\n",
       "      <td>96906</td>\n",
       "      <td>tcp</td>\n",
       "      <td>192.168.100.150</td>\n",
       "      <td>14302</td>\n",
       "      <td>192.168.100.3</td>\n",
       "      <td>80</td>\n",
       "      <td>95429</td>\n",
       "      <td>0.053820</td>\n",
       "      <td>100</td>\n",
       "      <td>0.064767</td>\n",
       "      <td>1</td>\n",
       "      <td>0.118588</td>\n",
       "      <td>100</td>\n",
       "      <td>0.038796</td>\n",
       "      <td>0.116388</td>\n",
       "      <td>0.172408</td>\n",
       "      <td>1</td>\n",
       "      <td>DoS</td>\n",
       "      <td>TCP</td>\n",
       "      <td>1</td>\n",
       "    </tr>\n",
       "  </tbody>\n",
       "</table>\n",
       "<p>2934817 rows × 20 columns</p>\n",
       "</div>"
      ],
      "text/plain": [
       "         pkSeqID proto            saddr  sport          daddr dport     seq  \\\n",
       "0        3142762   udp  192.168.100.150   6551  192.168.100.3    80  251984   \n",
       "1        2432264   tcp  192.168.100.150   5532  192.168.100.3    80  256724   \n",
       "2        1976315   tcp  192.168.100.147  27165  192.168.100.3    80   62921   \n",
       "3        1240757   udp  192.168.100.150  48719  192.168.100.3    80   99168   \n",
       "4        3257991   udp  192.168.100.147  22461  192.168.100.3    80  105063   \n",
       "...          ...   ...              ...    ...            ...   ...     ...   \n",
       "2934812  1132803   udp  192.168.100.149  56044  192.168.100.5    80  253370   \n",
       "2934813  3384621   udp  192.168.100.150  21546  192.168.100.3    80  231693   \n",
       "2934814   775893   udp  192.168.100.149  30897  192.168.100.5    80  158616   \n",
       "2934815   443484   tcp  192.168.100.147  36904  192.168.100.7    80  179855   \n",
       "2934816    96906   tcp  192.168.100.150  14302  192.168.100.3    80   95429   \n",
       "\n",
       "           stddev  N_IN_Conn_P_SrcIP       min  state_number      mean  \\\n",
       "0        1.900363                100  0.000000             4  2.687519   \n",
       "1        0.078003                 38  3.856930             3  3.934927   \n",
       "2        0.268666                100  2.974100             3  3.341429   \n",
       "3        1.823185                 63  0.000000             4  3.222832   \n",
       "4        0.822418                100  2.979995             4  3.983222   \n",
       "...           ...                ...       ...           ...       ...   \n",
       "2934812  0.016992                100  4.082509             4  4.102515   \n",
       "2934813  1.922317                100  0.000000             4  2.718527   \n",
       "2934814  2.112228                100  0.000000             4  2.110766   \n",
       "2934815  0.000000                100  0.000000             3  0.000000   \n",
       "2934816  0.053820                100  0.064767             1  0.118588   \n",
       "\n",
       "         N_IN_Conn_P_DstIP     drate     srate       max  attack category  \\\n",
       "0                      100  0.000000  0.494549  4.031619       1     DDoS   \n",
       "1                      100  0.000000  0.256493  4.012924       1     DDoS   \n",
       "2                      100  0.000000  0.294880  3.609205       1     DDoS   \n",
       "3                       63  0.000000  0.461435  4.942302       1      DoS   \n",
       "4                      100  0.000000  1.002999  4.994452       1     DDoS   \n",
       "...                    ...       ...       ...       ...     ...      ...   \n",
       "2934812                100  0.000000  0.243473  4.124047       1      DoS   \n",
       "2934813                100  0.000000  0.490800  4.090534       1     DDoS   \n",
       "2934814                100  0.000000  0.207444  4.332615       1      DoS   \n",
       "2934815                100  0.000000  0.162130  0.000000       1      DoS   \n",
       "2934816                100  0.038796  0.116388  0.172408       1      DoS   \n",
       "\n",
       "        subcategory  attack_label  \n",
       "0               UDP             0  \n",
       "1               TCP             1  \n",
       "2               TCP             1  \n",
       "3               UDP             0  \n",
       "4               UDP             0  \n",
       "...             ...           ...  \n",
       "2934812         UDP             0  \n",
       "2934813         UDP             0  \n",
       "2934814         UDP             0  \n",
       "2934815         TCP             1  \n",
       "2934816         TCP             1  \n",
       "\n",
       "[2934817 rows x 20 columns]"
      ]
     },
     "execution_count": 15,
     "metadata": {},
     "output_type": "execute_result"
    }
   ],
   "source": [
    "df.drop_duplicates()"
   ]
  },
  {
   "cell_type": "code",
   "execution_count": 16,
   "id": "5030e239",
   "metadata": {},
   "outputs": [
    {
     "name": "stdout",
     "output_type": "stream",
     "text": [
      "<class 'pandas.core.frame.DataFrame'>\n",
      "RangeIndex: 2934817 entries, 0 to 2934816\n",
      "Data columns (total 20 columns):\n",
      " #   Column             Dtype  \n",
      "---  ------             -----  \n",
      " 0   pkSeqID            int64  \n",
      " 1   proto              object \n",
      " 2   saddr              object \n",
      " 3   sport              object \n",
      " 4   daddr              object \n",
      " 5   dport              object \n",
      " 6   seq                int64  \n",
      " 7   stddev             float64\n",
      " 8   N_IN_Conn_P_SrcIP  int64  \n",
      " 9   min                float64\n",
      " 10  state_number       int64  \n",
      " 11  mean               float64\n",
      " 12  N_IN_Conn_P_DstIP  int64  \n",
      " 13  drate              float64\n",
      " 14  srate              float64\n",
      " 15  max                float64\n",
      " 16  attack             int64  \n",
      " 17  category           object \n",
      " 18  subcategory        object \n",
      " 19  attack_label       int64  \n",
      "dtypes: float64(6), int64(7), object(7)\n",
      "memory usage: 447.8+ MB\n"
     ]
    }
   ],
   "source": [
    "df.info()"
   ]
  },
  {
   "cell_type": "code",
   "execution_count": 17,
   "id": "5bc53a7a",
   "metadata": {},
   "outputs": [
    {
     "data": {
      "text/html": [
       "<div>\n",
       "<style scoped>\n",
       "    .dataframe tbody tr th:only-of-type {\n",
       "        vertical-align: middle;\n",
       "    }\n",
       "\n",
       "    .dataframe tbody tr th {\n",
       "        vertical-align: top;\n",
       "    }\n",
       "\n",
       "    .dataframe thead th {\n",
       "        text-align: right;\n",
       "    }\n",
       "</style>\n",
       "<table border=\"1\" class=\"dataframe\">\n",
       "  <thead>\n",
       "    <tr style=\"text-align: right;\">\n",
       "      <th></th>\n",
       "      <th>count</th>\n",
       "      <th>mean</th>\n",
       "      <th>std</th>\n",
       "      <th>min</th>\n",
       "      <th>25%</th>\n",
       "      <th>50%</th>\n",
       "      <th>75%</th>\n",
       "      <th>max</th>\n",
       "    </tr>\n",
       "  </thead>\n",
       "  <tbody>\n",
       "    <tr>\n",
       "      <th>pkSeqID</th>\n",
       "      <td>2934817.0</td>\n",
       "      <td>1.834209e+06</td>\n",
       "      <td>1.059058e+06</td>\n",
       "      <td>1.0</td>\n",
       "      <td>917109.000000</td>\n",
       "      <td>1.834316e+06</td>\n",
       "      <td>2.751250e+06</td>\n",
       "      <td>3.668522e+06</td>\n",
       "    </tr>\n",
       "    <tr>\n",
       "      <th>seq</th>\n",
       "      <td>2934817.0</td>\n",
       "      <td>1.212973e+05</td>\n",
       "      <td>7.578700e+04</td>\n",
       "      <td>1.0</td>\n",
       "      <td>54847.000000</td>\n",
       "      <td>1.177370e+05</td>\n",
       "      <td>1.848700e+05</td>\n",
       "      <td>2.622110e+05</td>\n",
       "    </tr>\n",
       "    <tr>\n",
       "      <th>stddev</th>\n",
       "      <td>2934817.0</td>\n",
       "      <td>8.869639e-01</td>\n",
       "      <td>8.036391e-01</td>\n",
       "      <td>0.0</td>\n",
       "      <td>0.029997</td>\n",
       "      <td>7.925750e-01</td>\n",
       "      <td>1.745220e+00</td>\n",
       "      <td>2.496763e+00</td>\n",
       "    </tr>\n",
       "    <tr>\n",
       "      <th>N_IN_Conn_P_SrcIP</th>\n",
       "      <td>2934817.0</td>\n",
       "      <td>8.254997e+01</td>\n",
       "      <td>2.439019e+01</td>\n",
       "      <td>1.0</td>\n",
       "      <td>69.000000</td>\n",
       "      <td>1.000000e+02</td>\n",
       "      <td>1.000000e+02</td>\n",
       "      <td>1.000000e+02</td>\n",
       "    </tr>\n",
       "    <tr>\n",
       "      <th>min</th>\n",
       "      <td>2934817.0</td>\n",
       "      <td>1.017208e+00</td>\n",
       "      <td>1.483551e+00</td>\n",
       "      <td>0.0</td>\n",
       "      <td>0.000000</td>\n",
       "      <td>0.000000e+00</td>\n",
       "      <td>2.147949e+00</td>\n",
       "      <td>4.980471e+00</td>\n",
       "    </tr>\n",
       "    <tr>\n",
       "      <th>state_number</th>\n",
       "      <td>2934817.0</td>\n",
       "      <td>3.134219e+00</td>\n",
       "      <td>1.187107e+00</td>\n",
       "      <td>1.0</td>\n",
       "      <td>3.000000</td>\n",
       "      <td>4.000000e+00</td>\n",
       "      <td>4.000000e+00</td>\n",
       "      <td>1.100000e+01</td>\n",
       "    </tr>\n",
       "    <tr>\n",
       "      <th>mean</th>\n",
       "      <td>2934817.0</td>\n",
       "      <td>2.230471e+00</td>\n",
       "      <td>1.517766e+00</td>\n",
       "      <td>0.0</td>\n",
       "      <td>0.181934</td>\n",
       "      <td>2.689973e+00</td>\n",
       "      <td>3.565061e+00</td>\n",
       "      <td>4.981882e+00</td>\n",
       "    </tr>\n",
       "    <tr>\n",
       "      <th>N_IN_Conn_P_DstIP</th>\n",
       "      <td>2934817.0</td>\n",
       "      <td>9.245766e+01</td>\n",
       "      <td>1.816651e+01</td>\n",
       "      <td>1.0</td>\n",
       "      <td>100.000000</td>\n",
       "      <td>1.000000e+02</td>\n",
       "      <td>1.000000e+02</td>\n",
       "      <td>1.000000e+02</td>\n",
       "    </tr>\n",
       "    <tr>\n",
       "      <th>drate</th>\n",
       "      <td>2934817.0</td>\n",
       "      <td>4.303064e-01</td>\n",
       "      <td>5.623304e+01</td>\n",
       "      <td>0.0</td>\n",
       "      <td>0.000000</td>\n",
       "      <td>0.000000e+00</td>\n",
       "      <td>0.000000e+00</td>\n",
       "      <td>5.882353e+04</td>\n",
       "    </tr>\n",
       "    <tr>\n",
       "      <th>srate</th>\n",
       "      <td>2934817.0</td>\n",
       "      <td>3.128290e+00</td>\n",
       "      <td>7.845494e+02</td>\n",
       "      <td>0.0</td>\n",
       "      <td>0.155845</td>\n",
       "      <td>2.837800e-01</td>\n",
       "      <td>4.880000e-01</td>\n",
       "      <td>1.000000e+06</td>\n",
       "    </tr>\n",
       "    <tr>\n",
       "      <th>max</th>\n",
       "      <td>2934817.0</td>\n",
       "      <td>3.019269e+00</td>\n",
       "      <td>1.860915e+00</td>\n",
       "      <td>0.0</td>\n",
       "      <td>0.280417</td>\n",
       "      <td>4.008429e+00</td>\n",
       "      <td>4.292426e+00</td>\n",
       "      <td>4.999999e+00</td>\n",
       "    </tr>\n",
       "    <tr>\n",
       "      <th>attack</th>\n",
       "      <td>2934817.0</td>\n",
       "      <td>9.998739e-01</td>\n",
       "      <td>1.122750e-02</td>\n",
       "      <td>0.0</td>\n",
       "      <td>1.000000</td>\n",
       "      <td>1.000000e+00</td>\n",
       "      <td>1.000000e+00</td>\n",
       "      <td>1.000000e+00</td>\n",
       "    </tr>\n",
       "    <tr>\n",
       "      <th>attack_label</th>\n",
       "      <td>2934817.0</td>\n",
       "      <td>4.600515e-01</td>\n",
       "      <td>4.984016e-01</td>\n",
       "      <td>0.0</td>\n",
       "      <td>0.000000</td>\n",
       "      <td>0.000000e+00</td>\n",
       "      <td>1.000000e+00</td>\n",
       "      <td>1.000000e+00</td>\n",
       "    </tr>\n",
       "  </tbody>\n",
       "</table>\n",
       "</div>"
      ],
      "text/plain": [
       "                       count          mean           std  min            25%  \\\n",
       "pkSeqID            2934817.0  1.834209e+06  1.059058e+06  1.0  917109.000000   \n",
       "seq                2934817.0  1.212973e+05  7.578700e+04  1.0   54847.000000   \n",
       "stddev             2934817.0  8.869639e-01  8.036391e-01  0.0       0.029997   \n",
       "N_IN_Conn_P_SrcIP  2934817.0  8.254997e+01  2.439019e+01  1.0      69.000000   \n",
       "min                2934817.0  1.017208e+00  1.483551e+00  0.0       0.000000   \n",
       "state_number       2934817.0  3.134219e+00  1.187107e+00  1.0       3.000000   \n",
       "mean               2934817.0  2.230471e+00  1.517766e+00  0.0       0.181934   \n",
       "N_IN_Conn_P_DstIP  2934817.0  9.245766e+01  1.816651e+01  1.0     100.000000   \n",
       "drate              2934817.0  4.303064e-01  5.623304e+01  0.0       0.000000   \n",
       "srate              2934817.0  3.128290e+00  7.845494e+02  0.0       0.155845   \n",
       "max                2934817.0  3.019269e+00  1.860915e+00  0.0       0.280417   \n",
       "attack             2934817.0  9.998739e-01  1.122750e-02  0.0       1.000000   \n",
       "attack_label       2934817.0  4.600515e-01  4.984016e-01  0.0       0.000000   \n",
       "\n",
       "                            50%           75%           max  \n",
       "pkSeqID            1.834316e+06  2.751250e+06  3.668522e+06  \n",
       "seq                1.177370e+05  1.848700e+05  2.622110e+05  \n",
       "stddev             7.925750e-01  1.745220e+00  2.496763e+00  \n",
       "N_IN_Conn_P_SrcIP  1.000000e+02  1.000000e+02  1.000000e+02  \n",
       "min                0.000000e+00  2.147949e+00  4.980471e+00  \n",
       "state_number       4.000000e+00  4.000000e+00  1.100000e+01  \n",
       "mean               2.689973e+00  3.565061e+00  4.981882e+00  \n",
       "N_IN_Conn_P_DstIP  1.000000e+02  1.000000e+02  1.000000e+02  \n",
       "drate              0.000000e+00  0.000000e+00  5.882353e+04  \n",
       "srate              2.837800e-01  4.880000e-01  1.000000e+06  \n",
       "max                4.008429e+00  4.292426e+00  4.999999e+00  \n",
       "attack             1.000000e+00  1.000000e+00  1.000000e+00  \n",
       "attack_label       0.000000e+00  1.000000e+00  1.000000e+00  "
      ]
     },
     "execution_count": 17,
     "metadata": {},
     "output_type": "execute_result"
    }
   ],
   "source": [
    "df.describe().transpose()"
   ]
  },
  {
   "cell_type": "code",
   "execution_count": 18,
   "id": "b2fbc213",
   "metadata": {},
   "outputs": [
    {
     "data": {
      "text/html": [
       "<div>\n",
       "<style scoped>\n",
       "    .dataframe tbody tr th:only-of-type {\n",
       "        vertical-align: middle;\n",
       "    }\n",
       "\n",
       "    .dataframe tbody tr th {\n",
       "        vertical-align: top;\n",
       "    }\n",
       "\n",
       "    .dataframe thead th {\n",
       "        text-align: right;\n",
       "    }\n",
       "</style>\n",
       "<table border=\"1\" class=\"dataframe\">\n",
       "  <thead>\n",
       "    <tr style=\"text-align: right;\">\n",
       "      <th></th>\n",
       "      <th>pkSeqID</th>\n",
       "      <th>seq</th>\n",
       "      <th>stddev</th>\n",
       "      <th>N_IN_Conn_P_SrcIP</th>\n",
       "      <th>min</th>\n",
       "      <th>state_number</th>\n",
       "      <th>mean</th>\n",
       "      <th>N_IN_Conn_P_DstIP</th>\n",
       "      <th>drate</th>\n",
       "      <th>srate</th>\n",
       "      <th>max</th>\n",
       "      <th>attack</th>\n",
       "      <th>attack_label</th>\n",
       "    </tr>\n",
       "  </thead>\n",
       "  <tbody>\n",
       "    <tr>\n",
       "      <th>pkSeqID</th>\n",
       "      <td>1.000000</td>\n",
       "      <td>-0.027136</td>\n",
       "      <td>0.162617</td>\n",
       "      <td>-0.034084</td>\n",
       "      <td>0.285961</td>\n",
       "      <td>0.202782</td>\n",
       "      <td>0.398544</td>\n",
       "      <td>0.344883</td>\n",
       "      <td>0.012629</td>\n",
       "      <td>0.005549</td>\n",
       "      <td>0.349825</td>\n",
       "      <td>-0.018480</td>\n",
       "      <td>-0.247338</td>\n",
       "    </tr>\n",
       "    <tr>\n",
       "      <th>seq</th>\n",
       "      <td>-0.027136</td>\n",
       "      <td>1.000000</td>\n",
       "      <td>0.071785</td>\n",
       "      <td>0.066903</td>\n",
       "      <td>0.016441</td>\n",
       "      <td>0.051894</td>\n",
       "      <td>0.059093</td>\n",
       "      <td>0.052820</td>\n",
       "      <td>-0.011199</td>\n",
       "      <td>-0.004691</td>\n",
       "      <td>0.072290</td>\n",
       "      <td>0.016659</td>\n",
       "      <td>-0.067002</td>\n",
       "    </tr>\n",
       "    <tr>\n",
       "      <th>stddev</th>\n",
       "      <td>0.162617</td>\n",
       "      <td>0.071785</td>\n",
       "      <td>1.000000</td>\n",
       "      <td>0.041382</td>\n",
       "      <td>-0.375931</td>\n",
       "      <td>0.339865</td>\n",
       "      <td>0.350581</td>\n",
       "      <td>0.040469</td>\n",
       "      <td>-0.008364</td>\n",
       "      <td>-0.003818</td>\n",
       "      <td>0.668193</td>\n",
       "      <td>0.011872</td>\n",
       "      <td>-0.412990</td>\n",
       "    </tr>\n",
       "    <tr>\n",
       "      <th>N_IN_Conn_P_SrcIP</th>\n",
       "      <td>-0.034084</td>\n",
       "      <td>0.066903</td>\n",
       "      <td>0.041382</td>\n",
       "      <td>1.000000</td>\n",
       "      <td>0.028413</td>\n",
       "      <td>0.036031</td>\n",
       "      <td>0.061703</td>\n",
       "      <td>0.575716</td>\n",
       "      <td>-0.008289</td>\n",
       "      <td>-0.005509</td>\n",
       "      <td>0.065151</td>\n",
       "      <td>0.028637</td>\n",
       "      <td>-0.088019</td>\n",
       "    </tr>\n",
       "    <tr>\n",
       "      <th>min</th>\n",
       "      <td>0.285961</td>\n",
       "      <td>0.016441</td>\n",
       "      <td>-0.375931</td>\n",
       "      <td>0.028413</td>\n",
       "      <td>1.000000</td>\n",
       "      <td>0.275102</td>\n",
       "      <td>0.694039</td>\n",
       "      <td>0.103538</td>\n",
       "      <td>-0.005078</td>\n",
       "      <td>-0.002126</td>\n",
       "      <td>0.427138</td>\n",
       "      <td>0.005226</td>\n",
       "      <td>-0.349599</td>\n",
       "    </tr>\n",
       "    <tr>\n",
       "      <th>state_number</th>\n",
       "      <td>0.202782</td>\n",
       "      <td>0.051894</td>\n",
       "      <td>0.339865</td>\n",
       "      <td>0.036031</td>\n",
       "      <td>0.275102</td>\n",
       "      <td>1.000000</td>\n",
       "      <td>0.571467</td>\n",
       "      <td>-0.047885</td>\n",
       "      <td>-0.003675</td>\n",
       "      <td>-0.004353</td>\n",
       "      <td>0.565148</td>\n",
       "      <td>0.002701</td>\n",
       "      <td>-0.790099</td>\n",
       "    </tr>\n",
       "    <tr>\n",
       "      <th>mean</th>\n",
       "      <td>0.398544</td>\n",
       "      <td>0.059093</td>\n",
       "      <td>0.350581</td>\n",
       "      <td>0.061703</td>\n",
       "      <td>0.694039</td>\n",
       "      <td>0.571467</td>\n",
       "      <td>1.000000</td>\n",
       "      <td>0.120107</td>\n",
       "      <td>-0.011026</td>\n",
       "      <td>-0.004828</td>\n",
       "      <td>0.908659</td>\n",
       "      <td>0.012848</td>\n",
       "      <td>-0.719619</td>\n",
       "    </tr>\n",
       "    <tr>\n",
       "      <th>N_IN_Conn_P_DstIP</th>\n",
       "      <td>0.344883</td>\n",
       "      <td>0.052820</td>\n",
       "      <td>0.040469</td>\n",
       "      <td>0.575716</td>\n",
       "      <td>0.103538</td>\n",
       "      <td>-0.047885</td>\n",
       "      <td>0.120107</td>\n",
       "      <td>1.000000</td>\n",
       "      <td>-0.003527</td>\n",
       "      <td>-0.004412</td>\n",
       "      <td>0.101192</td>\n",
       "      <td>0.052049</td>\n",
       "      <td>0.019789</td>\n",
       "    </tr>\n",
       "    <tr>\n",
       "      <th>drate</th>\n",
       "      <td>0.012629</td>\n",
       "      <td>-0.011199</td>\n",
       "      <td>-0.008364</td>\n",
       "      <td>-0.008289</td>\n",
       "      <td>-0.005078</td>\n",
       "      <td>-0.003675</td>\n",
       "      <td>-0.011026</td>\n",
       "      <td>-0.003527</td>\n",
       "      <td>1.000000</td>\n",
       "      <td>0.036855</td>\n",
       "      <td>-0.012199</td>\n",
       "      <td>-0.002730</td>\n",
       "      <td>0.008290</td>\n",
       "    </tr>\n",
       "    <tr>\n",
       "      <th>srate</th>\n",
       "      <td>0.005549</td>\n",
       "      <td>-0.004691</td>\n",
       "      <td>-0.003818</td>\n",
       "      <td>-0.005509</td>\n",
       "      <td>-0.002126</td>\n",
       "      <td>-0.004353</td>\n",
       "      <td>-0.004828</td>\n",
       "      <td>-0.004412</td>\n",
       "      <td>0.036855</td>\n",
       "      <td>1.000000</td>\n",
       "      <td>-0.005418</td>\n",
       "      <td>-0.096710</td>\n",
       "      <td>0.003659</td>\n",
       "    </tr>\n",
       "    <tr>\n",
       "      <th>max</th>\n",
       "      <td>0.349825</td>\n",
       "      <td>0.072290</td>\n",
       "      <td>0.668193</td>\n",
       "      <td>0.065151</td>\n",
       "      <td>0.427138</td>\n",
       "      <td>0.565148</td>\n",
       "      <td>0.908659</td>\n",
       "      <td>0.101192</td>\n",
       "      <td>-0.012199</td>\n",
       "      <td>-0.005418</td>\n",
       "      <td>1.000000</td>\n",
       "      <td>0.015015</td>\n",
       "      <td>-0.701792</td>\n",
       "    </tr>\n",
       "    <tr>\n",
       "      <th>attack</th>\n",
       "      <td>-0.018480</td>\n",
       "      <td>0.016659</td>\n",
       "      <td>0.011872</td>\n",
       "      <td>0.028637</td>\n",
       "      <td>0.005226</td>\n",
       "      <td>0.002701</td>\n",
       "      <td>0.012848</td>\n",
       "      <td>0.052049</td>\n",
       "      <td>-0.002730</td>\n",
       "      <td>-0.096710</td>\n",
       "      <td>0.015015</td>\n",
       "      <td>1.000000</td>\n",
       "      <td>-0.012165</td>\n",
       "    </tr>\n",
       "    <tr>\n",
       "      <th>attack_label</th>\n",
       "      <td>-0.247338</td>\n",
       "      <td>-0.067002</td>\n",
       "      <td>-0.412990</td>\n",
       "      <td>-0.088019</td>\n",
       "      <td>-0.349599</td>\n",
       "      <td>-0.790099</td>\n",
       "      <td>-0.719619</td>\n",
       "      <td>0.019789</td>\n",
       "      <td>0.008290</td>\n",
       "      <td>0.003659</td>\n",
       "      <td>-0.701792</td>\n",
       "      <td>-0.012165</td>\n",
       "      <td>1.000000</td>\n",
       "    </tr>\n",
       "  </tbody>\n",
       "</table>\n",
       "</div>"
      ],
      "text/plain": [
       "                    pkSeqID       seq    stddev  N_IN_Conn_P_SrcIP       min  \\\n",
       "pkSeqID            1.000000 -0.027136  0.162617          -0.034084  0.285961   \n",
       "seq               -0.027136  1.000000  0.071785           0.066903  0.016441   \n",
       "stddev             0.162617  0.071785  1.000000           0.041382 -0.375931   \n",
       "N_IN_Conn_P_SrcIP -0.034084  0.066903  0.041382           1.000000  0.028413   \n",
       "min                0.285961  0.016441 -0.375931           0.028413  1.000000   \n",
       "state_number       0.202782  0.051894  0.339865           0.036031  0.275102   \n",
       "mean               0.398544  0.059093  0.350581           0.061703  0.694039   \n",
       "N_IN_Conn_P_DstIP  0.344883  0.052820  0.040469           0.575716  0.103538   \n",
       "drate              0.012629 -0.011199 -0.008364          -0.008289 -0.005078   \n",
       "srate              0.005549 -0.004691 -0.003818          -0.005509 -0.002126   \n",
       "max                0.349825  0.072290  0.668193           0.065151  0.427138   \n",
       "attack            -0.018480  0.016659  0.011872           0.028637  0.005226   \n",
       "attack_label      -0.247338 -0.067002 -0.412990          -0.088019 -0.349599   \n",
       "\n",
       "                   state_number      mean  N_IN_Conn_P_DstIP     drate  \\\n",
       "pkSeqID                0.202782  0.398544           0.344883  0.012629   \n",
       "seq                    0.051894  0.059093           0.052820 -0.011199   \n",
       "stddev                 0.339865  0.350581           0.040469 -0.008364   \n",
       "N_IN_Conn_P_SrcIP      0.036031  0.061703           0.575716 -0.008289   \n",
       "min                    0.275102  0.694039           0.103538 -0.005078   \n",
       "state_number           1.000000  0.571467          -0.047885 -0.003675   \n",
       "mean                   0.571467  1.000000           0.120107 -0.011026   \n",
       "N_IN_Conn_P_DstIP     -0.047885  0.120107           1.000000 -0.003527   \n",
       "drate                 -0.003675 -0.011026          -0.003527  1.000000   \n",
       "srate                 -0.004353 -0.004828          -0.004412  0.036855   \n",
       "max                    0.565148  0.908659           0.101192 -0.012199   \n",
       "attack                 0.002701  0.012848           0.052049 -0.002730   \n",
       "attack_label          -0.790099 -0.719619           0.019789  0.008290   \n",
       "\n",
       "                      srate       max    attack  attack_label  \n",
       "pkSeqID            0.005549  0.349825 -0.018480     -0.247338  \n",
       "seq               -0.004691  0.072290  0.016659     -0.067002  \n",
       "stddev            -0.003818  0.668193  0.011872     -0.412990  \n",
       "N_IN_Conn_P_SrcIP -0.005509  0.065151  0.028637     -0.088019  \n",
       "min               -0.002126  0.427138  0.005226     -0.349599  \n",
       "state_number      -0.004353  0.565148  0.002701     -0.790099  \n",
       "mean              -0.004828  0.908659  0.012848     -0.719619  \n",
       "N_IN_Conn_P_DstIP -0.004412  0.101192  0.052049      0.019789  \n",
       "drate              0.036855 -0.012199 -0.002730      0.008290  \n",
       "srate              1.000000 -0.005418 -0.096710      0.003659  \n",
       "max               -0.005418  1.000000  0.015015     -0.701792  \n",
       "attack            -0.096710  0.015015  1.000000     -0.012165  \n",
       "attack_label       0.003659 -0.701792 -0.012165      1.000000  "
      ]
     },
     "execution_count": 18,
     "metadata": {},
     "output_type": "execute_result"
    }
   ],
   "source": [
    "df.corr()"
   ]
  },
  {
   "cell_type": "code",
   "execution_count": 19,
   "id": "ae5463db",
   "metadata": {},
   "outputs": [
    {
     "data": {
      "text/html": [
       "<div>\n",
       "<style scoped>\n",
       "    .dataframe tbody tr th:only-of-type {\n",
       "        vertical-align: middle;\n",
       "    }\n",
       "\n",
       "    .dataframe tbody tr th {\n",
       "        vertical-align: top;\n",
       "    }\n",
       "\n",
       "    .dataframe thead th {\n",
       "        text-align: right;\n",
       "    }\n",
       "</style>\n",
       "<table border=\"1\" class=\"dataframe\">\n",
       "  <thead>\n",
       "    <tr style=\"text-align: right;\">\n",
       "      <th></th>\n",
       "      <th>pkSeqID</th>\n",
       "      <th>seq</th>\n",
       "      <th>stddev</th>\n",
       "      <th>N_IN_Conn_P_SrcIP</th>\n",
       "      <th>min</th>\n",
       "      <th>state_number</th>\n",
       "      <th>mean</th>\n",
       "      <th>N_IN_Conn_P_DstIP</th>\n",
       "      <th>drate</th>\n",
       "      <th>srate</th>\n",
       "      <th>max</th>\n",
       "      <th>attack</th>\n",
       "      <th>attack_label</th>\n",
       "    </tr>\n",
       "  </thead>\n",
       "  <tbody>\n",
       "    <tr>\n",
       "      <th>pkSeqID</th>\n",
       "      <td>1.000000</td>\n",
       "      <td>-0.027136</td>\n",
       "      <td>0.162617</td>\n",
       "      <td>-0.034084</td>\n",
       "      <td>0.285961</td>\n",
       "      <td>0.202782</td>\n",
       "      <td>0.398544</td>\n",
       "      <td>0.344883</td>\n",
       "      <td>0.012629</td>\n",
       "      <td>0.005549</td>\n",
       "      <td>0.349825</td>\n",
       "      <td>-0.018480</td>\n",
       "      <td>-0.247338</td>\n",
       "    </tr>\n",
       "    <tr>\n",
       "      <th>seq</th>\n",
       "      <td>-0.027136</td>\n",
       "      <td>1.000000</td>\n",
       "      <td>0.071785</td>\n",
       "      <td>0.066903</td>\n",
       "      <td>0.016441</td>\n",
       "      <td>0.051894</td>\n",
       "      <td>0.059093</td>\n",
       "      <td>0.052820</td>\n",
       "      <td>-0.011199</td>\n",
       "      <td>-0.004691</td>\n",
       "      <td>0.072290</td>\n",
       "      <td>0.016659</td>\n",
       "      <td>-0.067002</td>\n",
       "    </tr>\n",
       "    <tr>\n",
       "      <th>stddev</th>\n",
       "      <td>0.162617</td>\n",
       "      <td>0.071785</td>\n",
       "      <td>1.000000</td>\n",
       "      <td>0.041382</td>\n",
       "      <td>-0.375931</td>\n",
       "      <td>0.339865</td>\n",
       "      <td>0.350581</td>\n",
       "      <td>0.040469</td>\n",
       "      <td>-0.008364</td>\n",
       "      <td>-0.003818</td>\n",
       "      <td>0.668193</td>\n",
       "      <td>0.011872</td>\n",
       "      <td>-0.412990</td>\n",
       "    </tr>\n",
       "    <tr>\n",
       "      <th>N_IN_Conn_P_SrcIP</th>\n",
       "      <td>-0.034084</td>\n",
       "      <td>0.066903</td>\n",
       "      <td>0.041382</td>\n",
       "      <td>1.000000</td>\n",
       "      <td>0.028413</td>\n",
       "      <td>0.036031</td>\n",
       "      <td>0.061703</td>\n",
       "      <td>0.575716</td>\n",
       "      <td>-0.008289</td>\n",
       "      <td>-0.005509</td>\n",
       "      <td>0.065151</td>\n",
       "      <td>0.028637</td>\n",
       "      <td>-0.088019</td>\n",
       "    </tr>\n",
       "    <tr>\n",
       "      <th>min</th>\n",
       "      <td>0.285961</td>\n",
       "      <td>0.016441</td>\n",
       "      <td>-0.375931</td>\n",
       "      <td>0.028413</td>\n",
       "      <td>1.000000</td>\n",
       "      <td>0.275102</td>\n",
       "      <td>0.694039</td>\n",
       "      <td>0.103538</td>\n",
       "      <td>-0.005078</td>\n",
       "      <td>-0.002126</td>\n",
       "      <td>0.427138</td>\n",
       "      <td>0.005226</td>\n",
       "      <td>-0.349599</td>\n",
       "    </tr>\n",
       "    <tr>\n",
       "      <th>state_number</th>\n",
       "      <td>0.202782</td>\n",
       "      <td>0.051894</td>\n",
       "      <td>0.339865</td>\n",
       "      <td>0.036031</td>\n",
       "      <td>0.275102</td>\n",
       "      <td>1.000000</td>\n",
       "      <td>0.571467</td>\n",
       "      <td>-0.047885</td>\n",
       "      <td>-0.003675</td>\n",
       "      <td>-0.004353</td>\n",
       "      <td>0.565148</td>\n",
       "      <td>0.002701</td>\n",
       "      <td>-0.790099</td>\n",
       "    </tr>\n",
       "    <tr>\n",
       "      <th>mean</th>\n",
       "      <td>0.398544</td>\n",
       "      <td>0.059093</td>\n",
       "      <td>0.350581</td>\n",
       "      <td>0.061703</td>\n",
       "      <td>0.694039</td>\n",
       "      <td>0.571467</td>\n",
       "      <td>1.000000</td>\n",
       "      <td>0.120107</td>\n",
       "      <td>-0.011026</td>\n",
       "      <td>-0.004828</td>\n",
       "      <td>0.908659</td>\n",
       "      <td>0.012848</td>\n",
       "      <td>-0.719619</td>\n",
       "    </tr>\n",
       "    <tr>\n",
       "      <th>N_IN_Conn_P_DstIP</th>\n",
       "      <td>0.344883</td>\n",
       "      <td>0.052820</td>\n",
       "      <td>0.040469</td>\n",
       "      <td>0.575716</td>\n",
       "      <td>0.103538</td>\n",
       "      <td>-0.047885</td>\n",
       "      <td>0.120107</td>\n",
       "      <td>1.000000</td>\n",
       "      <td>-0.003527</td>\n",
       "      <td>-0.004412</td>\n",
       "      <td>0.101192</td>\n",
       "      <td>0.052049</td>\n",
       "      <td>0.019789</td>\n",
       "    </tr>\n",
       "    <tr>\n",
       "      <th>drate</th>\n",
       "      <td>0.012629</td>\n",
       "      <td>-0.011199</td>\n",
       "      <td>-0.008364</td>\n",
       "      <td>-0.008289</td>\n",
       "      <td>-0.005078</td>\n",
       "      <td>-0.003675</td>\n",
       "      <td>-0.011026</td>\n",
       "      <td>-0.003527</td>\n",
       "      <td>1.000000</td>\n",
       "      <td>0.036855</td>\n",
       "      <td>-0.012199</td>\n",
       "      <td>-0.002730</td>\n",
       "      <td>0.008290</td>\n",
       "    </tr>\n",
       "    <tr>\n",
       "      <th>srate</th>\n",
       "      <td>0.005549</td>\n",
       "      <td>-0.004691</td>\n",
       "      <td>-0.003818</td>\n",
       "      <td>-0.005509</td>\n",
       "      <td>-0.002126</td>\n",
       "      <td>-0.004353</td>\n",
       "      <td>-0.004828</td>\n",
       "      <td>-0.004412</td>\n",
       "      <td>0.036855</td>\n",
       "      <td>1.000000</td>\n",
       "      <td>-0.005418</td>\n",
       "      <td>-0.096710</td>\n",
       "      <td>0.003659</td>\n",
       "    </tr>\n",
       "    <tr>\n",
       "      <th>max</th>\n",
       "      <td>0.349825</td>\n",
       "      <td>0.072290</td>\n",
       "      <td>0.668193</td>\n",
       "      <td>0.065151</td>\n",
       "      <td>0.427138</td>\n",
       "      <td>0.565148</td>\n",
       "      <td>0.908659</td>\n",
       "      <td>0.101192</td>\n",
       "      <td>-0.012199</td>\n",
       "      <td>-0.005418</td>\n",
       "      <td>1.000000</td>\n",
       "      <td>0.015015</td>\n",
       "      <td>-0.701792</td>\n",
       "    </tr>\n",
       "    <tr>\n",
       "      <th>attack</th>\n",
       "      <td>-0.018480</td>\n",
       "      <td>0.016659</td>\n",
       "      <td>0.011872</td>\n",
       "      <td>0.028637</td>\n",
       "      <td>0.005226</td>\n",
       "      <td>0.002701</td>\n",
       "      <td>0.012848</td>\n",
       "      <td>0.052049</td>\n",
       "      <td>-0.002730</td>\n",
       "      <td>-0.096710</td>\n",
       "      <td>0.015015</td>\n",
       "      <td>1.000000</td>\n",
       "      <td>-0.012165</td>\n",
       "    </tr>\n",
       "    <tr>\n",
       "      <th>attack_label</th>\n",
       "      <td>-0.247338</td>\n",
       "      <td>-0.067002</td>\n",
       "      <td>-0.412990</td>\n",
       "      <td>-0.088019</td>\n",
       "      <td>-0.349599</td>\n",
       "      <td>-0.790099</td>\n",
       "      <td>-0.719619</td>\n",
       "      <td>0.019789</td>\n",
       "      <td>0.008290</td>\n",
       "      <td>0.003659</td>\n",
       "      <td>-0.701792</td>\n",
       "      <td>-0.012165</td>\n",
       "      <td>1.000000</td>\n",
       "    </tr>\n",
       "  </tbody>\n",
       "</table>\n",
       "</div>"
      ],
      "text/plain": [
       "                    pkSeqID       seq    stddev  N_IN_Conn_P_SrcIP       min  \\\n",
       "pkSeqID            1.000000 -0.027136  0.162617          -0.034084  0.285961   \n",
       "seq               -0.027136  1.000000  0.071785           0.066903  0.016441   \n",
       "stddev             0.162617  0.071785  1.000000           0.041382 -0.375931   \n",
       "N_IN_Conn_P_SrcIP -0.034084  0.066903  0.041382           1.000000  0.028413   \n",
       "min                0.285961  0.016441 -0.375931           0.028413  1.000000   \n",
       "state_number       0.202782  0.051894  0.339865           0.036031  0.275102   \n",
       "mean               0.398544  0.059093  0.350581           0.061703  0.694039   \n",
       "N_IN_Conn_P_DstIP  0.344883  0.052820  0.040469           0.575716  0.103538   \n",
       "drate              0.012629 -0.011199 -0.008364          -0.008289 -0.005078   \n",
       "srate              0.005549 -0.004691 -0.003818          -0.005509 -0.002126   \n",
       "max                0.349825  0.072290  0.668193           0.065151  0.427138   \n",
       "attack            -0.018480  0.016659  0.011872           0.028637  0.005226   \n",
       "attack_label      -0.247338 -0.067002 -0.412990          -0.088019 -0.349599   \n",
       "\n",
       "                   state_number      mean  N_IN_Conn_P_DstIP     drate  \\\n",
       "pkSeqID                0.202782  0.398544           0.344883  0.012629   \n",
       "seq                    0.051894  0.059093           0.052820 -0.011199   \n",
       "stddev                 0.339865  0.350581           0.040469 -0.008364   \n",
       "N_IN_Conn_P_SrcIP      0.036031  0.061703           0.575716 -0.008289   \n",
       "min                    0.275102  0.694039           0.103538 -0.005078   \n",
       "state_number           1.000000  0.571467          -0.047885 -0.003675   \n",
       "mean                   0.571467  1.000000           0.120107 -0.011026   \n",
       "N_IN_Conn_P_DstIP     -0.047885  0.120107           1.000000 -0.003527   \n",
       "drate                 -0.003675 -0.011026          -0.003527  1.000000   \n",
       "srate                 -0.004353 -0.004828          -0.004412  0.036855   \n",
       "max                    0.565148  0.908659           0.101192 -0.012199   \n",
       "attack                 0.002701  0.012848           0.052049 -0.002730   \n",
       "attack_label          -0.790099 -0.719619           0.019789  0.008290   \n",
       "\n",
       "                      srate       max    attack  attack_label  \n",
       "pkSeqID            0.005549  0.349825 -0.018480     -0.247338  \n",
       "seq               -0.004691  0.072290  0.016659     -0.067002  \n",
       "stddev            -0.003818  0.668193  0.011872     -0.412990  \n",
       "N_IN_Conn_P_SrcIP -0.005509  0.065151  0.028637     -0.088019  \n",
       "min               -0.002126  0.427138  0.005226     -0.349599  \n",
       "state_number      -0.004353  0.565148  0.002701     -0.790099  \n",
       "mean              -0.004828  0.908659  0.012848     -0.719619  \n",
       "N_IN_Conn_P_DstIP -0.004412  0.101192  0.052049      0.019789  \n",
       "drate              0.036855 -0.012199 -0.002730      0.008290  \n",
       "srate              1.000000 -0.005418 -0.096710      0.003659  \n",
       "max               -0.005418  1.000000  0.015015     -0.701792  \n",
       "attack            -0.096710  0.015015  1.000000     -0.012165  \n",
       "attack_label       0.003659 -0.701792 -0.012165      1.000000  "
      ]
     },
     "execution_count": 19,
     "metadata": {},
     "output_type": "execute_result"
    }
   ],
   "source": [
    "df.corr().transpose()"
   ]
  },
  {
   "cell_type": "code",
   "execution_count": 20,
   "id": "a54d53be",
   "metadata": {},
   "outputs": [],
   "source": [
    "# X_train = df[['min', 'state_number', 'mean', 'N_IN_Conn_P_DstIP', 'drate', 'max']]\n",
    "X_tr = df[['min', 'state_number', 'mean', 'N_IN_Conn_P_DstIP', 'drate', 'max']]\n",
    "y_train = df['attack_label']"
   ]
  },
  {
   "cell_type": "code",
   "execution_count": 21,
   "id": "e02adcff",
   "metadata": {},
   "outputs": [],
   "source": [
    "from sklearn.decomposition import PCA\n",
    "pca_iot = PCA(n_components=3)\n",
    "PrincipalComponents_IOT = pca_iot.fit_transform(X_tr)"
   ]
  },
  {
   "cell_type": "code",
   "execution_count": 22,
   "id": "5f642014",
   "metadata": {},
   "outputs": [],
   "source": [
    "principal_ddos_df = pd.DataFrame(data = PrincipalComponents_IOT, columns = ['p1', 'p2','p3'])"
   ]
  },
  {
   "cell_type": "code",
   "execution_count": 23,
   "id": "60dc3d79",
   "metadata": {},
   "outputs": [],
   "source": [
    "X_train = principal_ddos_df"
   ]
  },
  {
   "cell_type": "code",
   "execution_count": 24,
   "id": "25a5dd1e",
   "metadata": {},
   "outputs": [
    {
     "data": {
      "text/html": [
       "<div>\n",
       "<style scoped>\n",
       "    .dataframe tbody tr th:only-of-type {\n",
       "        vertical-align: middle;\n",
       "    }\n",
       "\n",
       "    .dataframe tbody tr th {\n",
       "        vertical-align: top;\n",
       "    }\n",
       "\n",
       "    .dataframe thead th {\n",
       "        text-align: right;\n",
       "    }\n",
       "</style>\n",
       "<table border=\"1\" class=\"dataframe\">\n",
       "  <thead>\n",
       "    <tr style=\"text-align: right;\">\n",
       "      <th></th>\n",
       "      <th>p1</th>\n",
       "      <th>p2</th>\n",
       "      <th>p3</th>\n",
       "    </tr>\n",
       "  </thead>\n",
       "  <tbody>\n",
       "    <tr>\n",
       "      <th>0</th>\n",
       "      <td>-0.440384</td>\n",
       "      <td>-7.544635</td>\n",
       "      <td>0.685131</td>\n",
       "    </tr>\n",
       "    <tr>\n",
       "      <th>1</th>\n",
       "      <td>-0.441195</td>\n",
       "      <td>-7.593359</td>\n",
       "      <td>2.562219</td>\n",
       "    </tr>\n",
       "    <tr>\n",
       "      <th>2</th>\n",
       "      <td>-0.440734</td>\n",
       "      <td>-7.575451</td>\n",
       "      <td>1.618421</td>\n",
       "    </tr>\n",
       "    <tr>\n",
       "      <th>3</th>\n",
       "      <td>-0.393814</td>\n",
       "      <td>29.434714</td>\n",
       "      <td>2.156254</td>\n",
       "    </tr>\n",
       "    <tr>\n",
       "      <th>4</th>\n",
       "      <td>-0.441567</td>\n",
       "      <td>-7.593634</td>\n",
       "      <td>3.203724</td>\n",
       "    </tr>\n",
       "    <tr>\n",
       "      <th>...</th>\n",
       "      <td>...</td>\n",
       "      <td>...</td>\n",
       "      <td>...</td>\n",
       "    </tr>\n",
       "    <tr>\n",
       "      <th>2934812</th>\n",
       "      <td>-0.441399</td>\n",
       "      <td>-7.595125</td>\n",
       "      <td>3.116322</td>\n",
       "    </tr>\n",
       "    <tr>\n",
       "      <th>2934813</th>\n",
       "      <td>-0.440417</td>\n",
       "      <td>-7.545574</td>\n",
       "      <td>0.741865</td>\n",
       "    </tr>\n",
       "    <tr>\n",
       "      <th>2934814</th>\n",
       "      <td>-0.440334</td>\n",
       "      <td>-7.541926</td>\n",
       "      <td>0.557854</td>\n",
       "    </tr>\n",
       "    <tr>\n",
       "      <th>2934815</th>\n",
       "      <td>-0.437865</td>\n",
       "      <td>-7.477653</td>\n",
       "      <td>-3.816737</td>\n",
       "    </tr>\n",
       "    <tr>\n",
       "      <th>2934816</th>\n",
       "      <td>-0.399029</td>\n",
       "      <td>-7.487406</td>\n",
       "      <td>-4.207256</td>\n",
       "    </tr>\n",
       "  </tbody>\n",
       "</table>\n",
       "<p>2934817 rows × 3 columns</p>\n",
       "</div>"
      ],
      "text/plain": [
       "               p1         p2        p3\n",
       "0       -0.440384  -7.544635  0.685131\n",
       "1       -0.441195  -7.593359  2.562219\n",
       "2       -0.440734  -7.575451  1.618421\n",
       "3       -0.393814  29.434714  2.156254\n",
       "4       -0.441567  -7.593634  3.203724\n",
       "...           ...        ...       ...\n",
       "2934812 -0.441399  -7.595125  3.116322\n",
       "2934813 -0.440417  -7.545574  0.741865\n",
       "2934814 -0.440334  -7.541926  0.557854\n",
       "2934815 -0.437865  -7.477653 -3.816737\n",
       "2934816 -0.399029  -7.487406 -4.207256\n",
       "\n",
       "[2934817 rows x 3 columns]"
      ]
     },
     "execution_count": 24,
     "metadata": {},
     "output_type": "execute_result"
    }
   ],
   "source": [
    "X_train"
   ]
  },
  {
   "cell_type": "code",
   "execution_count": 25,
   "id": "9c60e6c9",
   "metadata": {},
   "outputs": [
    {
     "data": {
      "text/plain": [
       "0          0\n",
       "1          1\n",
       "2          1\n",
       "3          0\n",
       "4          0\n",
       "          ..\n",
       "2934812    0\n",
       "2934813    0\n",
       "2934814    0\n",
       "2934815    1\n",
       "2934816    1\n",
       "Name: attack_label, Length: 2934817, dtype: int64"
      ]
     },
     "execution_count": 25,
     "metadata": {},
     "output_type": "execute_result"
    }
   ],
   "source": [
    "y_train"
   ]
  },
  {
   "cell_type": "code",
   "execution_count": 26,
   "id": "e330ed20",
   "metadata": {},
   "outputs": [],
   "source": [
    "df1 = pd.read_csv('D:\\\\IIT Kharagpur Notes\\\\Semester IV\\\\Datasets\\\\BoT-IoT\\\\CSV\\\\Traning and Testing Tets (5% of the entier dataset)\\\\10-best features\\\\10-best Training-Testing split\\\\UNSW_2018_IoT_Botnet_Final_10_best_Testing.csv')"
   ]
  },
  {
   "cell_type": "code",
   "execution_count": 27,
   "id": "daa5b798",
   "metadata": {},
   "outputs": [],
   "source": [
    "df1['attack_label'] = 0"
   ]
  },
  {
   "cell_type": "code",
   "execution_count": 28,
   "id": "8ac57dfb",
   "metadata": {},
   "outputs": [],
   "source": [
    "for i in range(len(df1)):\n",
    "    if df1['subcategory'][i] != 'UDP':\n",
    "        df1['attack_label'][i] = 1"
   ]
  },
  {
   "cell_type": "code",
   "execution_count": 29,
   "id": "41de7c9e",
   "metadata": {},
   "outputs": [],
   "source": [
    "# X_test= df1[['min', 'state_number', 'mean', 'N_IN_Conn_P_DstIP', 'drate', 'max']]\n",
    "X_te= df1[['min', 'state_number', 'mean', 'N_IN_Conn_P_DstIP', 'drate', 'max']]\n",
    "y_test = df1['attack_label']"
   ]
  },
  {
   "cell_type": "code",
   "execution_count": 30,
   "id": "d607926f",
   "metadata": {},
   "outputs": [],
   "source": [
    "from sklearn.decomposition import PCA\n",
    "pca_iot = PCA(n_components=3)\n",
    "PrincipalComponents_IOT = pca_iot.fit_transform(X_te)"
   ]
  },
  {
   "cell_type": "code",
   "execution_count": 31,
   "id": "0bbdb1a0",
   "metadata": {},
   "outputs": [],
   "source": [
    "principal_ddos_df = pd.DataFrame(data = PrincipalComponents_IOT, columns = ['p1', 'p2','p3'])"
   ]
  },
  {
   "cell_type": "code",
   "execution_count": 32,
   "id": "3cf29ec5",
   "metadata": {},
   "outputs": [],
   "source": [
    "X_test = principal_ddos_df"
   ]
  },
  {
   "cell_type": "code",
   "execution_count": 33,
   "id": "2d0efc26",
   "metadata": {},
   "outputs": [
    {
     "data": {
      "text/html": [
       "<div>\n",
       "<style scoped>\n",
       "    .dataframe tbody tr th:only-of-type {\n",
       "        vertical-align: middle;\n",
       "    }\n",
       "\n",
       "    .dataframe tbody tr th {\n",
       "        vertical-align: top;\n",
       "    }\n",
       "\n",
       "    .dataframe thead th {\n",
       "        text-align: right;\n",
       "    }\n",
       "</style>\n",
       "<table border=\"1\" class=\"dataframe\">\n",
       "  <thead>\n",
       "    <tr style=\"text-align: right;\">\n",
       "      <th></th>\n",
       "      <th>p1</th>\n",
       "      <th>p2</th>\n",
       "      <th>p3</th>\n",
       "    </tr>\n",
       "  </thead>\n",
       "  <tbody>\n",
       "    <tr>\n",
       "      <th>0</th>\n",
       "      <td>-0.514730</td>\n",
       "      <td>-7.634950</td>\n",
       "      <td>3.715131</td>\n",
       "    </tr>\n",
       "    <tr>\n",
       "      <th>1</th>\n",
       "      <td>-0.289297</td>\n",
       "      <td>-7.629009</td>\n",
       "      <td>2.011404</td>\n",
       "    </tr>\n",
       "    <tr>\n",
       "      <th>2</th>\n",
       "      <td>-0.513846</td>\n",
       "      <td>-7.576098</td>\n",
       "      <td>0.775635</td>\n",
       "    </tr>\n",
       "    <tr>\n",
       "      <th>3</th>\n",
       "      <td>-0.514264</td>\n",
       "      <td>-7.623278</td>\n",
       "      <td>1.703292</td>\n",
       "    </tr>\n",
       "    <tr>\n",
       "      <th>4</th>\n",
       "      <td>-0.513673</td>\n",
       "      <td>-7.569904</td>\n",
       "      <td>0.010070</td>\n",
       "    </tr>\n",
       "    <tr>\n",
       "      <th>...</th>\n",
       "      <td>...</td>\n",
       "      <td>...</td>\n",
       "      <td>...</td>\n",
       "    </tr>\n",
       "    <tr>\n",
       "      <th>733700</th>\n",
       "      <td>-0.455796</td>\n",
       "      <td>53.412865</td>\n",
       "      <td>1.801765</td>\n",
       "    </tr>\n",
       "    <tr>\n",
       "      <th>733701</th>\n",
       "      <td>-0.514510</td>\n",
       "      <td>-7.619623</td>\n",
       "      <td>2.961894</td>\n",
       "    </tr>\n",
       "    <tr>\n",
       "      <th>733702</th>\n",
       "      <td>-0.235116</td>\n",
       "      <td>-7.579158</td>\n",
       "      <td>-0.495930</td>\n",
       "    </tr>\n",
       "    <tr>\n",
       "      <th>733703</th>\n",
       "      <td>-0.512130</td>\n",
       "      <td>-7.507702</td>\n",
       "      <td>-3.821464</td>\n",
       "    </tr>\n",
       "    <tr>\n",
       "      <th>733704</th>\n",
       "      <td>-0.512198</td>\n",
       "      <td>-7.510464</td>\n",
       "      <td>-3.651292</td>\n",
       "    </tr>\n",
       "  </tbody>\n",
       "</table>\n",
       "<p>733705 rows × 3 columns</p>\n",
       "</div>"
      ],
      "text/plain": [
       "              p1         p2        p3\n",
       "0      -0.514730  -7.634950  3.715131\n",
       "1      -0.289297  -7.629009  2.011404\n",
       "2      -0.513846  -7.576098  0.775635\n",
       "3      -0.514264  -7.623278  1.703292\n",
       "4      -0.513673  -7.569904  0.010070\n",
       "...          ...        ...       ...\n",
       "733700 -0.455796  53.412865  1.801765\n",
       "733701 -0.514510  -7.619623  2.961894\n",
       "733702 -0.235116  -7.579158 -0.495930\n",
       "733703 -0.512130  -7.507702 -3.821464\n",
       "733704 -0.512198  -7.510464 -3.651292\n",
       "\n",
       "[733705 rows x 3 columns]"
      ]
     },
     "execution_count": 33,
     "metadata": {},
     "output_type": "execute_result"
    }
   ],
   "source": [
    "X_test"
   ]
  },
  {
   "cell_type": "code",
   "execution_count": 34,
   "id": "19599d09",
   "metadata": {},
   "outputs": [
    {
     "data": {
      "text/plain": [
       "0         0\n",
       "1         1\n",
       "2         0\n",
       "3         1\n",
       "4         1\n",
       "         ..\n",
       "733700    0\n",
       "733701    0\n",
       "733702    1\n",
       "733703    1\n",
       "733704    1\n",
       "Name: attack_label, Length: 733705, dtype: int64"
      ]
     },
     "execution_count": 34,
     "metadata": {},
     "output_type": "execute_result"
    }
   ],
   "source": [
    "y_test "
   ]
  },
  {
   "cell_type": "code",
   "execution_count": 35,
   "id": "bd261997",
   "metadata": {},
   "outputs": [],
   "source": [
    "from sklearn.preprocessing import StandardScaler"
   ]
  },
  {
   "cell_type": "code",
   "execution_count": 36,
   "id": "866a8b19",
   "metadata": {},
   "outputs": [],
   "source": [
    "scaler = StandardScaler()"
   ]
  },
  {
   "cell_type": "code",
   "execution_count": 37,
   "id": "6351bd61",
   "metadata": {},
   "outputs": [],
   "source": [
    "scaled_X_train = scaler.fit_transform(X_train)\n",
    "scaled_X_test = scaler.transform(X_test)"
   ]
  },
  {
   "cell_type": "code",
   "execution_count": 38,
   "id": "c2a1a6dc",
   "metadata": {},
   "outputs": [],
   "source": [
    "from sklearn.model_selection import cross_val_score\n",
    "from sklearn.discriminant_analysis import LinearDiscriminantAnalysis as LDA"
   ]
  },
  {
   "cell_type": "code",
   "execution_count": 39,
   "id": "59690b60",
   "metadata": {},
   "outputs": [],
   "source": [
    "clf = LDA()"
   ]
  },
  {
   "cell_type": "code",
   "execution_count": 40,
   "id": "152973b2",
   "metadata": {},
   "outputs": [
    {
     "data": {
      "text/plain": [
       "LinearDiscriminantAnalysis()"
      ]
     },
     "execution_count": 40,
     "metadata": {},
     "output_type": "execute_result"
    }
   ],
   "source": [
    "clf.fit(scaled_X_train,y_train)"
   ]
  },
  {
   "cell_type": "code",
   "execution_count": 41,
   "id": "51630e22",
   "metadata": {},
   "outputs": [
    {
     "data": {
      "text/plain": [
       "array([[ 0.03878057, -0.08576579, -3.52827027]])"
      ]
     },
     "execution_count": 41,
     "metadata": {},
     "output_type": "execute_result"
    }
   ],
   "source": [
    "clf.coef_"
   ]
  },
  {
   "cell_type": "code",
   "execution_count": 42,
   "id": "91d3ab9c",
   "metadata": {},
   "outputs": [],
   "source": [
    "from sklearn.metrics import accuracy_score,confusion_matrix,classification_report,plot_confusion_matrix"
   ]
  },
  {
   "cell_type": "code",
   "execution_count": 43,
   "id": "41d60f3c",
   "metadata": {},
   "outputs": [],
   "source": [
    "y_pred = clf.predict(scaled_X_test)"
   ]
  },
  {
   "cell_type": "code",
   "execution_count": 44,
   "id": "982721ad",
   "metadata": {},
   "outputs": [
    {
     "data": {
      "text/plain": [
       "0.8681431910645286"
      ]
     },
     "execution_count": 44,
     "metadata": {},
     "output_type": "execute_result"
    }
   ],
   "source": [
    "accuracy_score(y_test,y_pred)"
   ]
  },
  {
   "cell_type": "code",
   "execution_count": 45,
   "id": "5a3b0859",
   "metadata": {},
   "outputs": [
    {
     "data": {
      "text/plain": [
       "array([[387752,   8828],\n",
       "       [ 87916, 249209]], dtype=int64)"
      ]
     },
     "execution_count": 45,
     "metadata": {},
     "output_type": "execute_result"
    }
   ],
   "source": [
    "confusion_matrix(y_test,y_pred)"
   ]
  },
  {
   "cell_type": "code",
   "execution_count": 46,
   "id": "0719223d",
   "metadata": {},
   "outputs": [
    {
     "data": {
      "text/plain": [
       "<sklearn.metrics._plot.confusion_matrix.ConfusionMatrixDisplay at 0x1c5447dab80>"
      ]
     },
     "execution_count": 46,
     "metadata": {},
     "output_type": "execute_result"
    },
    {
     "data": {
      "image/png": "[encoded data removed]",
      "text/plain": [
       "<Figure size 640x480 with 2 Axes>"
      ]
     },
     "metadata": {},
     "output_type": "display_data"
    }
   ],
   "source": [
    "plot_confusion_matrix(clf,scaled_X_test,y_test)"
   ]
  },
  {
   "cell_type": "code",
   "execution_count": 47,
   "id": "d02dbd55",
   "metadata": {},
   "outputs": [
    {
     "data": {
      "text/plain": [
       "<sklearn.metrics._plot.confusion_matrix.ConfusionMatrixDisplay at 0x1c544a649a0>"
      ]
     },
     "execution_count": 47,
     "metadata": {},
     "output_type": "execute_result"
    },
    {
     "data": {
      "image/png": "[encoded data removed]",
      "text/plain": [
       "<Figure size 640x480 with 2 Axes>"
      ]
     },
     "metadata": {},
     "output_type": "display_data"
    }
   ],
   "source": [
    "plot_confusion_matrix(clf,scaled_X_test,y_test,normalize='true')"
   ]
  },
  {
   "cell_type": "code",
   "execution_count": 48,
   "id": "11f03d15",
   "metadata": {},
   "outputs": [
    {
     "name": "stdout",
     "output_type": "stream",
     "text": [
      "              precision    recall  f1-score   support\n",
      "\n",
      "           0       0.82      0.98      0.89    396580\n",
      "           1       0.97      0.74      0.84    337125\n",
      "\n",
      "    accuracy                           0.87    733705\n",
      "   macro avg       0.89      0.86      0.86    733705\n",
      "weighted avg       0.88      0.87      0.87    733705\n",
      "\n"
     ]
    }
   ],
   "source": [
    "print(classification_report(y_test,y_pred))"
   ]
  },
  {
   "cell_type": "code",
   "execution_count": 49,
   "id": "2918a55c",
   "metadata": {},
   "outputs": [],
   "source": [
    "from sklearn.metrics import precision_recall_curve,plot_precision_recall_curve,plot_roc_curve"
   ]
  },
  {
   "cell_type": "code",
   "execution_count": 50,
   "id": "00567818",
   "metadata": {},
   "outputs": [
    {
     "data": {
      "text/plain": [
       "<sklearn.metrics._plot.precision_recall_curve.PrecisionRecallDisplay at 0x1c54496ae20>"
      ]
     },
     "execution_count": 50,
     "metadata": {},
     "output_type": "execute_result"
    },
    {
     "data": {
      "image/png": "[encoded data removed]",
      "text/plain": [
       "<Figure size 640x480 with 1 Axes>"
      ]
     },
     "metadata": {},
     "output_type": "display_data"
    }
   ],
   "source": [
    "plot_precision_recall_curve(clf,scaled_X_test,y_test)"
   ]
  },
  {
   "cell_type": "code",
   "execution_count": 51,
   "id": "f1aa13f1",
   "metadata": {},
   "outputs": [
    {
     "data": {
      "text/plain": [
       "<sklearn.metrics._plot.roc_curve.RocCurveDisplay at 0x1c544ad3220>"
      ]
     },
     "execution_count": 51,
     "metadata": {},
     "output_type": "execute_result"
    },
    {
     "data": {
      "image/png": "[encoded data removed]",
      "text/plain": [
       "<Figure size 640x480 with 1 Axes>"
      ]
     },
     "metadata": {},
     "output_type": "display_data"
    }
   ],
   "source": [
    "plot_roc_curve(clf,scaled_X_test,y_test)"
   ]
  },
  {
   "cell_type": "code",
   "execution_count": 52,
   "id": "5d201e40",
   "metadata": {},
   "outputs": [],
   "source": [
    "from sklearn.model_selection import GridSearchCV\n",
    "from sklearn.model_selection import RepeatedStratifiedKFold"
   ]
  },
  {
   "cell_type": "code",
   "execution_count": 53,
   "id": "7556a9a3",
   "metadata": {},
   "outputs": [],
   "source": [
    "cv = RepeatedStratifiedKFold(n_splits=10, n_repeats=3, random_state=1)"
   ]
  },
  {
   "cell_type": "code",
   "execution_count": 54,
   "id": "9572b23b",
   "metadata": {},
   "outputs": [],
   "source": [
    "grid = dict()\n",
    "grid['solver'] = ['svd', 'lsqr', 'eigen']"
   ]
  },
  {
   "cell_type": "code",
   "execution_count": 55,
   "id": "a9b87019",
   "metadata": {},
   "outputs": [],
   "source": [
    "search = GridSearchCV(clf, grid, scoring='accuracy', cv=cv, n_jobs=-1)"
   ]
  },
  {
   "cell_type": "code",
   "execution_count": 56,
   "id": "e411d3a9",
   "metadata": {},
   "outputs": [],
   "source": [
    "results = search.fit(scaled_X_train,y_train)"
   ]
  },
  {
   "cell_type": "code",
   "execution_count": 57,
   "id": "d5865123",
   "metadata": {},
   "outputs": [
    {
     "name": "stdout",
     "output_type": "stream",
     "text": [
      "Mean Accuracy: 0.868\n",
      "Config: {'solver': 'svd'}\n"
     ]
    }
   ],
   "source": [
    "print('Mean Accuracy: %.3f' % results.best_score_)\n",
    "print('Config: %s' % results.best_params_)"
   ]
  },
  {
   "cell_type": "code",
   "execution_count": 58,
   "id": "cbbb7890",
   "metadata": {},
   "outputs": [],
   "source": [
    "y_pred =search.predict(scaled_X_test)"
   ]
  },
  {
   "cell_type": "code",
   "execution_count": 59,
   "id": "b14a75cd",
   "metadata": {},
   "outputs": [
    {
     "data": {
      "text/plain": [
       "0.8681431910645286"
      ]
     },
     "execution_count": 59,
     "metadata": {},
     "output_type": "execute_result"
    }
   ],
   "source": [
    "accuracy_score(y_test,y_pred)"
   ]
  },
  {
   "cell_type": "code",
   "execution_count": 60,
   "id": "5da39a5e",
   "metadata": {},
   "outputs": [
    {
     "data": {
      "text/plain": [
       "array([[387752,   8828],\n",
       "       [ 87916, 249209]], dtype=int64)"
      ]
     },
     "execution_count": 60,
     "metadata": {},
     "output_type": "execute_result"
    }
   ],
   "source": [
    "confusion_matrix(y_test,y_pred)"
   ]
  },
  {
   "cell_type": "code",
   "execution_count": 61,
   "id": "f430fd18",
   "metadata": {},
   "outputs": [
    {
     "data": {
      "text/plain": [
       "<sklearn.metrics._plot.confusion_matrix.ConfusionMatrixDisplay at 0x1c544dd8310>"
      ]
     },
     "execution_count": 61,
     "metadata": {},
     "output_type": "execute_result"
    },
    {
     "data": {
      "image/png": "[encoded data removed]",
      "text/plain": [
       "<Figure size 640x480 with 2 Axes>"
      ]
     },
     "metadata": {},
     "output_type": "display_data"
    }
   ],
   "source": [
    "plot_confusion_matrix(results,scaled_X_test,y_test)"
   ]
  },
  {
   "cell_type": "code",
   "execution_count": 62,
   "id": "9b6430f2",
   "metadata": {},
   "outputs": [
    {
     "data": {
      "text/plain": [
       "<sklearn.metrics._plot.confusion_matrix.ConfusionMatrixDisplay at 0x1c5449bfd90>"
      ]
     },
     "execution_count": 62,
     "metadata": {},
     "output_type": "execute_result"
    },
    {
     "data": {
      "image/png": "[encoded data removed]",
      "text/plain": [
       "<Figure size 640x480 with 2 Axes>"
      ]
     },
     "metadata": {},
     "output_type": "display_data"
    }
   ],
   "source": [
    "plot_confusion_matrix(results,scaled_X_test,y_test,normalize='true')"
   ]
  },
  {
   "cell_type": "code",
   "execution_count": 63,
   "id": "969e5c70",
   "metadata": {},
   "outputs": [
    {
     "name": "stdout",
     "output_type": "stream",
     "text": [
      "              precision    recall  f1-score   support\n",
      "\n",
      "           0       0.82      0.98      0.89    396580\n",
      "           1       0.97      0.74      0.84    337125\n",
      "\n",
      "    accuracy                           0.87    733705\n",
      "   macro avg       0.89      0.86      0.86    733705\n",
      "weighted avg       0.88      0.87      0.87    733705\n",
      "\n"
     ]
    }
   ],
   "source": [
    "print(classification_report(y_test,y_pred))"
   ]
  },
  {
   "cell_type": "code",
   "execution_count": 64,
   "id": "47ce4953",
   "metadata": {},
   "outputs": [],
   "source": [
    "from sklearn.metrics import precision_recall_curve,plot_precision_recall_curve,plot_roc_curve"
   ]
  },
  {
   "cell_type": "code",
   "execution_count": 65,
   "id": "b4047872",
   "metadata": {},
   "outputs": [
    {
     "data": {
      "text/plain": [
       "<sklearn.metrics._plot.precision_recall_curve.PrecisionRecallDisplay at 0x1c5449d1b80>"
      ]
     },
     "execution_count": 65,
     "metadata": {},
     "output_type": "execute_result"
    },
    {
     "data": {
      "image/png": "[encoded data removed]",
      "text/plain": [
       "<Figure size 640x480 with 1 Axes>"
      ]
     },
     "metadata": {},
     "output_type": "display_data"
    }
   ],
   "source": [
    "plot_precision_recall_curve(results,scaled_X_test,y_test)"
   ]
  },
  {
   "cell_type": "code",
   "execution_count": 66,
   "id": "dba867fd",
   "metadata": {},
   "outputs": [
    {
     "data": {
      "text/plain": [
       "<sklearn.metrics._plot.roc_curve.RocCurveDisplay at 0x1c54496af10>"
      ]
     },
     "execution_count": 66,
     "metadata": {},
     "output_type": "execute_result"
    },
    {
     "data": {
      "image/png": "[encoded data removed]",
      "text/plain": [
       "<Figure size 640x480 with 1 Axes>"
      ]
     },
     "metadata": {},
     "output_type": "display_data"
    }
   ],
   "source": [
    "plot_roc_curve(results,scaled_X_test,y_test)"
   ]
  },
  {
   "cell_type": "markdown",
   "id": "87f1bd90",
   "metadata": {},
   "source": [
    "# QDA"
   ]
  },
  {
   "cell_type": "code",
   "execution_count": 67,
   "id": "d5c973fc",
   "metadata": {},
   "outputs": [],
   "source": [
    "from sklearn.discriminant_analysis import QuadraticDiscriminantAnalysis as QDA"
   ]
  },
  {
   "cell_type": "code",
   "execution_count": 68,
   "id": "6cd40502",
   "metadata": {},
   "outputs": [],
   "source": [
    "qda_model = QDA()"
   ]
  },
  {
   "cell_type": "code",
   "execution_count": 69,
   "id": "4701899d",
   "metadata": {},
   "outputs": [
    {
     "data": {
      "text/plain": [
       "QuadraticDiscriminantAnalysis()"
      ]
     },
     "execution_count": 69,
     "metadata": {},
     "output_type": "execute_result"
    }
   ],
   "source": [
    "qda_model.fit(scaled_X_train,y_train)"
   ]
  },
  {
   "cell_type": "code",
   "execution_count": 70,
   "id": "862c6f97",
   "metadata": {},
   "outputs": [],
   "source": [
    "from sklearn.metrics import accuracy_score,confusion_matrix,classification_report,plot_confusion_matrix"
   ]
  },
  {
   "cell_type": "code",
   "execution_count": 71,
   "id": "75ead2f6",
   "metadata": {},
   "outputs": [],
   "source": [
    "y_pred = qda_model.predict(scaled_X_test)"
   ]
  },
  {
   "cell_type": "code",
   "execution_count": 72,
   "id": "1375f758",
   "metadata": {},
   "outputs": [
    {
     "data": {
      "text/plain": [
       "0.458937856495458"
      ]
     },
     "execution_count": 72,
     "metadata": {},
     "output_type": "execute_result"
    }
   ],
   "source": [
    "accuracy_score(y_test,y_pred)"
   ]
  },
  {
   "cell_type": "code",
   "execution_count": 73,
   "id": "5432ad74",
   "metadata": {},
   "outputs": [
    {
     "data": {
      "text/plain": [
       "array([[     0, 396580],\n",
       "       [   400, 336725]], dtype=int64)"
      ]
     },
     "execution_count": 73,
     "metadata": {},
     "output_type": "execute_result"
    }
   ],
   "source": [
    "confusion_matrix(y_test,y_pred)"
   ]
  },
  {
   "cell_type": "code",
   "execution_count": 74,
   "id": "30b38b91",
   "metadata": {},
   "outputs": [
    {
     "data": {
      "text/plain": [
       "<sklearn.metrics._plot.confusion_matrix.ConfusionMatrixDisplay at 0x1c544cbc910>"
      ]
     },
     "execution_count": 74,
     "metadata": {},
     "output_type": "execute_result"
    },
    {
     "data": {
      "image/png": "[encoded data removed]",
      "text/plain": [
       "<Figure size 640x480 with 2 Axes>"
      ]
     },
     "metadata": {},
     "output_type": "display_data"
    }
   ],
   "source": [
    "plot_confusion_matrix(qda_model,scaled_X_test,y_test)"
   ]
  },
  {
   "cell_type": "code",
   "execution_count": 75,
   "id": "8e8ee339",
   "metadata": {},
   "outputs": [
    {
     "data": {
      "text/plain": [
       "<sklearn.metrics._plot.confusion_matrix.ConfusionMatrixDisplay at 0x1c544cfa610>"
      ]
     },
     "execution_count": 75,
     "metadata": {},
     "output_type": "execute_result"
    },
    {
     "data": {
      "image/png": "[encoded data removed]",
      "text/plain": [
       "<Figure size 640x480 with 2 Axes>"
      ]
     },
     "metadata": {},
     "output_type": "display_data"
    }
   ],
   "source": [
    "plot_confusion_matrix(qda_model,scaled_X_test,y_test,normalize='true')"
   ]
  },
  {
   "cell_type": "code",
   "execution_count": 76,
   "id": "8839f145",
   "metadata": {},
   "outputs": [
    {
     "name": "stdout",
     "output_type": "stream",
     "text": [
      "              precision    recall  f1-score   support\n",
      "\n",
      "           0       0.00      0.00      0.00    396580\n",
      "           1       0.46      1.00      0.63    337125\n",
      "\n",
      "    accuracy                           0.46    733705\n",
      "   macro avg       0.23      0.50      0.31    733705\n",
      "weighted avg       0.21      0.46      0.29    733705\n",
      "\n"
     ]
    }
   ],
   "source": [
    "print(classification_report(y_test,y_pred))"
   ]
  },
  {
   "cell_type": "code",
   "execution_count": 77,
   "id": "55304d46",
   "metadata": {},
   "outputs": [],
   "source": [
    "from sklearn.metrics import precision_recall_curve,plot_precision_recall_curve,plot_roc_curve"
   ]
  },
  {
   "cell_type": "code",
   "execution_count": 78,
   "id": "cae86c0c",
   "metadata": {},
   "outputs": [
    {
     "data": {
      "text/plain": [
       "<sklearn.metrics._plot.precision_recall_curve.PrecisionRecallDisplay at 0x1c5700915e0>"
      ]
     },
     "execution_count": 78,
     "metadata": {},
     "output_type": "execute_result"
    },
    {
     "data": {
      "image/png": "[encoded data removed]",
      "text/plain": [
       "<Figure size 640x480 with 1 Axes>"
      ]
     },
     "metadata": {},
     "output_type": "display_data"
    }
   ],
   "source": [
    "plot_precision_recall_curve(qda_model,scaled_X_test,y_test)"
   ]
  },
  {
   "cell_type": "code",
   "execution_count": 79,
   "id": "15377bce",
   "metadata": {},
   "outputs": [
    {
     "data": {
      "text/plain": [
       "<sklearn.metrics._plot.roc_curve.RocCurveDisplay at 0x1c5700880a0>"
      ]
     },
     "execution_count": 79,
     "metadata": {},
     "output_type": "execute_result"
    },
    {
     "data": {
      "image/png": "[encoded data removed]",
      "text/plain": [
       "<Figure size 640x480 with 1 Axes>"
      ]
     },
     "metadata": {},
     "output_type": "display_data"
    }
   ],
   "source": [
    "plot_roc_curve(qda_model,scaled_X_test,y_test)"
   ]
  },
  {
   "cell_type": "code",
   "execution_count": 80,
   "id": "4d6e21a4",
   "metadata": {},
   "outputs": [],
   "source": [
    "parameters = {'reg_param': (0.00001, 0.0001, 0.001,0.01, 0.1), 'store_covariance': (True, False),'tol': (0.0001, 0.001,0.01, 0.1), }"
   ]
  },
  {
   "cell_type": "code",
   "execution_count": 81,
   "id": "3328147a",
   "metadata": {},
   "outputs": [],
   "source": [
    "grid_search_qda = GridSearchCV(estimator=qda_model,param_grid=parameters,scoring = 'accuracy',n_jobs = -1,cv = 5)"
   ]
  },
  {
   "cell_type": "code",
   "execution_count": 82,
   "id": "9205b994",
   "metadata": {},
   "outputs": [],
   "source": [
    "results2=grid_search_qda.fit(scaled_X_train,y_train)"
   ]
  },
  {
   "cell_type": "code",
   "execution_count": 83,
   "id": "7c1cb443",
   "metadata": {},
   "outputs": [
    {
     "name": "stdout",
     "output_type": "stream",
     "text": [
      "Mean Accuracy: 0.828\n",
      "Config: {'reg_param': 0.1, 'store_covariance': True, 'tol': 0.0001}\n"
     ]
    }
   ],
   "source": [
    "print('Mean Accuracy: %.3f' % results2.best_score_)\n",
    "print('Config: %s' % results2.best_params_)"
   ]
  },
  {
   "cell_type": "code",
   "execution_count": 84,
   "id": "b6f5f3ff",
   "metadata": {},
   "outputs": [],
   "source": [
    "y_pred =grid_search_qda.predict(scaled_X_test)"
   ]
  },
  {
   "cell_type": "code",
   "execution_count": 85,
   "id": "7a5c827c",
   "metadata": {},
   "outputs": [
    {
     "data": {
      "text/plain": [
       "0.8279690066171009"
      ]
     },
     "execution_count": 85,
     "metadata": {},
     "output_type": "execute_result"
    }
   ],
   "source": [
    "accuracy_score(y_test,y_pred)"
   ]
  },
  {
   "cell_type": "code",
   "execution_count": 86,
   "id": "0c6c7c7f",
   "metadata": {},
   "outputs": [
    {
     "data": {
      "text/plain": [
       "array([[396568,     12],\n",
       "       [126208, 210917]], dtype=int64)"
      ]
     },
     "execution_count": 86,
     "metadata": {},
     "output_type": "execute_result"
    }
   ],
   "source": [
    "confusion_matrix(y_test,y_pred)"
   ]
  },
  {
   "cell_type": "code",
   "execution_count": 87,
   "id": "ec1823c6",
   "metadata": {},
   "outputs": [
    {
     "data": {
      "text/plain": [
       "<sklearn.metrics._plot.confusion_matrix.ConfusionMatrixDisplay at 0x1c50d578f70>"
      ]
     },
     "execution_count": 87,
     "metadata": {},
     "output_type": "execute_result"
    },
    {
     "data": {
      "image/png": "[encoded data removed]",
      "text/plain": [
       "<Figure size 640x480 with 2 Axes>"
      ]
     },
     "metadata": {},
     "output_type": "display_data"
    }
   ],
   "source": [
    "plot_confusion_matrix(grid_search_qda,scaled_X_test,y_test)"
   ]
  },
  {
   "cell_type": "code",
   "execution_count": 88,
   "id": "5741690b",
   "metadata": {},
   "outputs": [
    {
     "data": {
      "text/plain": [
       "<sklearn.metrics._plot.confusion_matrix.ConfusionMatrixDisplay at 0x1c544b3f2e0>"
      ]
     },
     "execution_count": 88,
     "metadata": {},
     "output_type": "execute_result"
    },
    {
     "data": {
      "image/png": "[encoded data removed]",
      "text/plain": [
       "<Figure size 640x480 with 2 Axes>"
      ]
     },
     "metadata": {},
     "output_type": "display_data"
    }
   ],
   "source": [
    "plot_confusion_matrix(grid_search_qda,scaled_X_test,y_test,normalize='true')"
   ]
  },
  {
   "cell_type": "code",
   "execution_count": 89,
   "id": "8649d0fa",
   "metadata": {},
   "outputs": [
    {
     "name": "stdout",
     "output_type": "stream",
     "text": [
      "              precision    recall  f1-score   support\n",
      "\n",
      "           0       0.76      1.00      0.86    396580\n",
      "           1       1.00      0.63      0.77    337125\n",
      "\n",
      "    accuracy                           0.83    733705\n",
      "   macro avg       0.88      0.81      0.82    733705\n",
      "weighted avg       0.87      0.83      0.82    733705\n",
      "\n"
     ]
    }
   ],
   "source": [
    "print(classification_report(y_test,y_pred))"
   ]
  },
  {
   "cell_type": "code",
   "execution_count": 90,
   "id": "e636e853",
   "metadata": {},
   "outputs": [],
   "source": [
    "from sklearn.metrics import precision_recall_curve,plot_precision_recall_curve,plot_roc_curve"
   ]
  },
  {
   "cell_type": "code",
   "execution_count": 91,
   "id": "e4fd59b7",
   "metadata": {},
   "outputs": [
    {
     "data": {
      "text/plain": [
       "<sklearn.metrics._plot.precision_recall_curve.PrecisionRecallDisplay at 0x1c570392b50>"
      ]
     },
     "execution_count": 91,
     "metadata": {},
     "output_type": "execute_result"
    },
    {
     "data": {
      "image/png": "[encoded data removed]",
      "text/plain": [
       "<Figure size 640x480 with 1 Axes>"
      ]
     },
     "metadata": {},
     "output_type": "display_data"
    }
   ],
   "source": [
    "plot_precision_recall_curve(grid_search_qda,scaled_X_test,y_test)"
   ]
  },
  {
   "cell_type": "code",
   "execution_count": 92,
   "id": "dd97e403",
   "metadata": {},
   "outputs": [
    {
     "data": {
      "text/plain": [
       "<sklearn.metrics._plot.roc_curve.RocCurveDisplay at 0x1c544c75b50>"
      ]
     },
     "execution_count": 92,
     "metadata": {},
     "output_type": "execute_result"
    },
    {
     "data": {
      "image/png": "[encoded data removed]",
      "text/plain": [
       "<Figure size 640x480 with 1 Axes>"
      ]
     },
     "metadata": {},
     "output_type": "display_data"
    }
   ],
   "source": [
    "plot_roc_curve(grid_search_qda,scaled_X_test,y_test)"
   ]
  },
  {
   "cell_type": "code",
   "execution_count": 93,
   "id": "cad009fb",
   "metadata": {},
   "outputs": [
    {
     "name": "stdout",
     "output_type": "stream",
     "text": [
      "Defaulting to user installation because normal site-packages is not writeableNote: you may need to restart the kernel to use updated packages.\n",
      "\n",
      "Requirement already satisfied: prettytable in c:\\programdata\\anaconda3\\lib\\site-packages (3.5.0)\n",
      "Requirement already satisfied: wcwidth in c:\\programdata\\anaconda3\\lib\\site-packages (from prettytable) (0.2.5)\n"
     ]
    }
   ],
   "source": [
    "pip install prettytable"
   ]
  },
  {
   "cell_type": "code",
   "execution_count": 94,
   "id": "9512fdaf",
   "metadata": {},
   "outputs": [
    {
     "name": "stdout",
     "output_type": "stream",
     "text": [
      "+-----------------------+----------+\n",
      "|         Model         | Accuracy |\n",
      "+-----------------------+----------+\n",
      "|  Logistic Regression  |   0.89   |\n",
      "|    KNN (Best k = 1)   |   0.65   |\n",
      "|           LDA         |   0.87   |\n",
      "|           QDA         |   0.83   |\n",
      "+-----------------------+----------+\n"
     ]
    }
   ],
   "source": [
    "from prettytable import PrettyTable    \n",
    "x = PrettyTable()\n",
    "x.field_names = [\"Model\",\"Accuracy\"]\n",
    "x.add_row([\" Logistic Regression \", 0.89])  \n",
    "x.add_row([\" KNN (Best k = 1)\", 0.65]) \n",
    "x.add_row([\" LDA\", 0.87]) \n",
    "x.add_row([\" QDA\", 0.83]) \n",
    "print(x)"
   ]
  }
 ],
 "metadata": {
  "kernelspec": {
   "display_name": "Python 3 (ipykernel)",
   "language": "python",
   "name": "python3"
  },
  "language_info": {
   "codemirror_mode": {
    "name": "ipython",
    "version": 3
   },
   "file_extension": ".py",
   "mimetype": "text/x-python",
   "name": "python",
   "nbconvert_exporter": "python",
   "pygments_lexer": "ipython3",
   "version": "3.9.13"
  }
 },
 "nbformat": 4,
 "nbformat_minor": 5
}
